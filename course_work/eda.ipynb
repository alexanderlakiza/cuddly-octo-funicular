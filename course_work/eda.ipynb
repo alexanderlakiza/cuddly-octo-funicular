{
 "cells": [
  {
   "cell_type": "markdown",
   "source": [
    "# Загрузка данных"
   ],
   "metadata": {
    "collapsed": false
   }
  },
  {
   "cell_type": "code",
   "execution_count": 1,
   "metadata": {
    "collapsed": true
   },
   "outputs": [],
   "source": [
    "import os\n",
    "import pandas as pd\n",
    "import numpy as np\n",
    "import plotly.express as px\n",
    "import plotly.graph_objects as go\n",
    "from IPython.display import display"
   ]
  },
  {
   "cell_type": "code",
   "execution_count": 5,
   "outputs": [],
   "source": [
    "credits_df = pd.read_csv('data/tmdb_5000_credits.csv')\n",
    "movies_df = pd.read_csv('data/tmdb_5000_movies.csv')"
   ],
   "metadata": {
    "collapsed": false
   }
  },
  {
   "cell_type": "code",
   "execution_count": 6,
   "outputs": [
    {
     "data": {
      "text/plain": "(4803, 4)"
     },
     "metadata": {},
     "output_type": "display_data"
    },
    {
     "data": {
      "text/plain": "   movie_id                                     title  \\\n0     19995                                    Avatar   \n1       285  Pirates of the Caribbean: At World's End   \n2    206647                                   Spectre   \n3     49026                     The Dark Knight Rises   \n4     49529                               John Carter   \n\n                                                cast  \\\n0  [{\"cast_id\": 242, \"character\": \"Jake Sully\", \"...   \n1  [{\"cast_id\": 4, \"character\": \"Captain Jack Spa...   \n2  [{\"cast_id\": 1, \"character\": \"James Bond\", \"cr...   \n3  [{\"cast_id\": 2, \"character\": \"Bruce Wayne / Ba...   \n4  [{\"cast_id\": 5, \"character\": \"John Carter\", \"c...   \n\n                                                crew  \n0  [{\"credit_id\": \"52fe48009251416c750aca23\", \"de...  \n1  [{\"credit_id\": \"52fe4232c3a36847f800b579\", \"de...  \n2  [{\"credit_id\": \"54805967c3a36829b5002c41\", \"de...  \n3  [{\"credit_id\": \"52fe4781c3a36847f81398c3\", \"de...  \n4  [{\"credit_id\": \"52fe479ac3a36847f813eaa3\", \"de...  ",
      "text/html": "<div>\n<style scoped>\n    .dataframe tbody tr th:only-of-type {\n        vertical-align: middle;\n    }\n\n    .dataframe tbody tr th {\n        vertical-align: top;\n    }\n\n    .dataframe thead th {\n        text-align: right;\n    }\n</style>\n<table border=\"1\" class=\"dataframe\">\n  <thead>\n    <tr style=\"text-align: right;\">\n      <th></th>\n      <th>movie_id</th>\n      <th>title</th>\n      <th>cast</th>\n      <th>crew</th>\n    </tr>\n  </thead>\n  <tbody>\n    <tr>\n      <th>0</th>\n      <td>19995</td>\n      <td>Avatar</td>\n      <td>[{\"cast_id\": 242, \"character\": \"Jake Sully\", \"...</td>\n      <td>[{\"credit_id\": \"52fe48009251416c750aca23\", \"de...</td>\n    </tr>\n    <tr>\n      <th>1</th>\n      <td>285</td>\n      <td>Pirates of the Caribbean: At World's End</td>\n      <td>[{\"cast_id\": 4, \"character\": \"Captain Jack Spa...</td>\n      <td>[{\"credit_id\": \"52fe4232c3a36847f800b579\", \"de...</td>\n    </tr>\n    <tr>\n      <th>2</th>\n      <td>206647</td>\n      <td>Spectre</td>\n      <td>[{\"cast_id\": 1, \"character\": \"James Bond\", \"cr...</td>\n      <td>[{\"credit_id\": \"54805967c3a36829b5002c41\", \"de...</td>\n    </tr>\n    <tr>\n      <th>3</th>\n      <td>49026</td>\n      <td>The Dark Knight Rises</td>\n      <td>[{\"cast_id\": 2, \"character\": \"Bruce Wayne / Ba...</td>\n      <td>[{\"credit_id\": \"52fe4781c3a36847f81398c3\", \"de...</td>\n    </tr>\n    <tr>\n      <th>4</th>\n      <td>49529</td>\n      <td>John Carter</td>\n      <td>[{\"cast_id\": 5, \"character\": \"John Carter\", \"c...</td>\n      <td>[{\"credit_id\": \"52fe479ac3a36847f813eaa3\", \"de...</td>\n    </tr>\n  </tbody>\n</table>\n</div>"
     },
     "metadata": {},
     "output_type": "display_data"
    }
   ],
   "source": [
    "display(credits_df.shape)\n",
    "display(credits_df.head())"
   ],
   "metadata": {
    "collapsed": false
   }
  },
  {
   "cell_type": "code",
   "execution_count": 7,
   "outputs": [
    {
     "data": {
      "text/plain": "(4803, 20)"
     },
     "metadata": {},
     "output_type": "display_data"
    },
    {
     "data": {
      "text/plain": "      budget                                             genres  \\\n0  237000000  [{\"id\": 28, \"name\": \"Action\"}, {\"id\": 12, \"nam...   \n1  300000000  [{\"id\": 12, \"name\": \"Adventure\"}, {\"id\": 14, \"...   \n2  245000000  [{\"id\": 28, \"name\": \"Action\"}, {\"id\": 12, \"nam...   \n3  250000000  [{\"id\": 28, \"name\": \"Action\"}, {\"id\": 80, \"nam...   \n4  260000000  [{\"id\": 28, \"name\": \"Action\"}, {\"id\": 12, \"nam...   \n\n                                       homepage      id  \\\n0                   http://www.avatarmovie.com/   19995   \n1  http://disney.go.com/disneypictures/pirates/     285   \n2   http://www.sonypictures.com/movies/spectre/  206647   \n3            http://www.thedarkknightrises.com/   49026   \n4          http://movies.disney.com/john-carter   49529   \n\n                                            keywords original_language  \\\n0  [{\"id\": 1463, \"name\": \"culture clash\"}, {\"id\":...                en   \n1  [{\"id\": 270, \"name\": \"ocean\"}, {\"id\": 726, \"na...                en   \n2  [{\"id\": 470, \"name\": \"spy\"}, {\"id\": 818, \"name...                en   \n3  [{\"id\": 849, \"name\": \"dc comics\"}, {\"id\": 853,...                en   \n4  [{\"id\": 818, \"name\": \"based on novel\"}, {\"id\":...                en   \n\n                             original_title  \\\n0                                    Avatar   \n1  Pirates of the Caribbean: At World's End   \n2                                   Spectre   \n3                     The Dark Knight Rises   \n4                               John Carter   \n\n                                            overview  popularity  \\\n0  In the 22nd century, a paraplegic Marine is di...  150.437577   \n1  Captain Barbossa, long believed to be dead, ha...  139.082615   \n2  A cryptic message from Bond’s past sends him o...  107.376788   \n3  Following the death of District Attorney Harve...  112.312950   \n4  John Carter is a war-weary, former military ca...   43.926995   \n\n                                production_companies  \\\n0  [{\"name\": \"Ingenious Film Partners\", \"id\": 289...   \n1  [{\"name\": \"Walt Disney Pictures\", \"id\": 2}, {\"...   \n2  [{\"name\": \"Columbia Pictures\", \"id\": 5}, {\"nam...   \n3  [{\"name\": \"Legendary Pictures\", \"id\": 923}, {\"...   \n4        [{\"name\": \"Walt Disney Pictures\", \"id\": 2}]   \n\n                                production_countries release_date     revenue  \\\n0  [{\"iso_3166_1\": \"US\", \"name\": \"United States o...   2009-12-10  2787965087   \n1  [{\"iso_3166_1\": \"US\", \"name\": \"United States o...   2007-05-19   961000000   \n2  [{\"iso_3166_1\": \"GB\", \"name\": \"United Kingdom\"...   2015-10-26   880674609   \n3  [{\"iso_3166_1\": \"US\", \"name\": \"United States o...   2012-07-16  1084939099   \n4  [{\"iso_3166_1\": \"US\", \"name\": \"United States o...   2012-03-07   284139100   \n\n   runtime                                   spoken_languages    status  \\\n0    162.0  [{\"iso_639_1\": \"en\", \"name\": \"English\"}, {\"iso...  Released   \n1    169.0           [{\"iso_639_1\": \"en\", \"name\": \"English\"}]  Released   \n2    148.0  [{\"iso_639_1\": \"fr\", \"name\": \"Fran\\u00e7ais\"},...  Released   \n3    165.0           [{\"iso_639_1\": \"en\", \"name\": \"English\"}]  Released   \n4    132.0           [{\"iso_639_1\": \"en\", \"name\": \"English\"}]  Released   \n\n                                          tagline  \\\n0                     Enter the World of Pandora.   \n1  At the end of the world, the adventure begins.   \n2                           A Plan No One Escapes   \n3                                 The Legend Ends   \n4            Lost in our world, found in another.   \n\n                                      title  vote_average  vote_count  \n0                                    Avatar           7.2       11800  \n1  Pirates of the Caribbean: At World's End           6.9        4500  \n2                                   Spectre           6.3        4466  \n3                     The Dark Knight Rises           7.6        9106  \n4                               John Carter           6.1        2124  ",
      "text/html": "<div>\n<style scoped>\n    .dataframe tbody tr th:only-of-type {\n        vertical-align: middle;\n    }\n\n    .dataframe tbody tr th {\n        vertical-align: top;\n    }\n\n    .dataframe thead th {\n        text-align: right;\n    }\n</style>\n<table border=\"1\" class=\"dataframe\">\n  <thead>\n    <tr style=\"text-align: right;\">\n      <th></th>\n      <th>budget</th>\n      <th>genres</th>\n      <th>homepage</th>\n      <th>id</th>\n      <th>keywords</th>\n      <th>original_language</th>\n      <th>original_title</th>\n      <th>overview</th>\n      <th>popularity</th>\n      <th>production_companies</th>\n      <th>production_countries</th>\n      <th>release_date</th>\n      <th>revenue</th>\n      <th>runtime</th>\n      <th>spoken_languages</th>\n      <th>status</th>\n      <th>tagline</th>\n      <th>title</th>\n      <th>vote_average</th>\n      <th>vote_count</th>\n    </tr>\n  </thead>\n  <tbody>\n    <tr>\n      <th>0</th>\n      <td>237000000</td>\n      <td>[{\"id\": 28, \"name\": \"Action\"}, {\"id\": 12, \"nam...</td>\n      <td>http://www.avatarmovie.com/</td>\n      <td>19995</td>\n      <td>[{\"id\": 1463, \"name\": \"culture clash\"}, {\"id\":...</td>\n      <td>en</td>\n      <td>Avatar</td>\n      <td>In the 22nd century, a paraplegic Marine is di...</td>\n      <td>150.437577</td>\n      <td>[{\"name\": \"Ingenious Film Partners\", \"id\": 289...</td>\n      <td>[{\"iso_3166_1\": \"US\", \"name\": \"United States o...</td>\n      <td>2009-12-10</td>\n      <td>2787965087</td>\n      <td>162.0</td>\n      <td>[{\"iso_639_1\": \"en\", \"name\": \"English\"}, {\"iso...</td>\n      <td>Released</td>\n      <td>Enter the World of Pandora.</td>\n      <td>Avatar</td>\n      <td>7.2</td>\n      <td>11800</td>\n    </tr>\n    <tr>\n      <th>1</th>\n      <td>300000000</td>\n      <td>[{\"id\": 12, \"name\": \"Adventure\"}, {\"id\": 14, \"...</td>\n      <td>http://disney.go.com/disneypictures/pirates/</td>\n      <td>285</td>\n      <td>[{\"id\": 270, \"name\": \"ocean\"}, {\"id\": 726, \"na...</td>\n      <td>en</td>\n      <td>Pirates of the Caribbean: At World's End</td>\n      <td>Captain Barbossa, long believed to be dead, ha...</td>\n      <td>139.082615</td>\n      <td>[{\"name\": \"Walt Disney Pictures\", \"id\": 2}, {\"...</td>\n      <td>[{\"iso_3166_1\": \"US\", \"name\": \"United States o...</td>\n      <td>2007-05-19</td>\n      <td>961000000</td>\n      <td>169.0</td>\n      <td>[{\"iso_639_1\": \"en\", \"name\": \"English\"}]</td>\n      <td>Released</td>\n      <td>At the end of the world, the adventure begins.</td>\n      <td>Pirates of the Caribbean: At World's End</td>\n      <td>6.9</td>\n      <td>4500</td>\n    </tr>\n    <tr>\n      <th>2</th>\n      <td>245000000</td>\n      <td>[{\"id\": 28, \"name\": \"Action\"}, {\"id\": 12, \"nam...</td>\n      <td>http://www.sonypictures.com/movies/spectre/</td>\n      <td>206647</td>\n      <td>[{\"id\": 470, \"name\": \"spy\"}, {\"id\": 818, \"name...</td>\n      <td>en</td>\n      <td>Spectre</td>\n      <td>A cryptic message from Bond’s past sends him o...</td>\n      <td>107.376788</td>\n      <td>[{\"name\": \"Columbia Pictures\", \"id\": 5}, {\"nam...</td>\n      <td>[{\"iso_3166_1\": \"GB\", \"name\": \"United Kingdom\"...</td>\n      <td>2015-10-26</td>\n      <td>880674609</td>\n      <td>148.0</td>\n      <td>[{\"iso_639_1\": \"fr\", \"name\": \"Fran\\u00e7ais\"},...</td>\n      <td>Released</td>\n      <td>A Plan No One Escapes</td>\n      <td>Spectre</td>\n      <td>6.3</td>\n      <td>4466</td>\n    </tr>\n    <tr>\n      <th>3</th>\n      <td>250000000</td>\n      <td>[{\"id\": 28, \"name\": \"Action\"}, {\"id\": 80, \"nam...</td>\n      <td>http://www.thedarkknightrises.com/</td>\n      <td>49026</td>\n      <td>[{\"id\": 849, \"name\": \"dc comics\"}, {\"id\": 853,...</td>\n      <td>en</td>\n      <td>The Dark Knight Rises</td>\n      <td>Following the death of District Attorney Harve...</td>\n      <td>112.312950</td>\n      <td>[{\"name\": \"Legendary Pictures\", \"id\": 923}, {\"...</td>\n      <td>[{\"iso_3166_1\": \"US\", \"name\": \"United States o...</td>\n      <td>2012-07-16</td>\n      <td>1084939099</td>\n      <td>165.0</td>\n      <td>[{\"iso_639_1\": \"en\", \"name\": \"English\"}]</td>\n      <td>Released</td>\n      <td>The Legend Ends</td>\n      <td>The Dark Knight Rises</td>\n      <td>7.6</td>\n      <td>9106</td>\n    </tr>\n    <tr>\n      <th>4</th>\n      <td>260000000</td>\n      <td>[{\"id\": 28, \"name\": \"Action\"}, {\"id\": 12, \"nam...</td>\n      <td>http://movies.disney.com/john-carter</td>\n      <td>49529</td>\n      <td>[{\"id\": 818, \"name\": \"based on novel\"}, {\"id\":...</td>\n      <td>en</td>\n      <td>John Carter</td>\n      <td>John Carter is a war-weary, former military ca...</td>\n      <td>43.926995</td>\n      <td>[{\"name\": \"Walt Disney Pictures\", \"id\": 2}]</td>\n      <td>[{\"iso_3166_1\": \"US\", \"name\": \"United States o...</td>\n      <td>2012-03-07</td>\n      <td>284139100</td>\n      <td>132.0</td>\n      <td>[{\"iso_639_1\": \"en\", \"name\": \"English\"}]</td>\n      <td>Released</td>\n      <td>Lost in our world, found in another.</td>\n      <td>John Carter</td>\n      <td>6.1</td>\n      <td>2124</td>\n    </tr>\n  </tbody>\n</table>\n</div>"
     },
     "metadata": {},
     "output_type": "display_data"
    }
   ],
   "source": [
    "display(movies_df.shape)\n",
    "display(movies_df.head())"
   ],
   "metadata": {
    "collapsed": false
   }
  },
  {
   "cell_type": "code",
   "execution_count": 8,
   "outputs": [
    {
     "data": {
      "text/plain": "      movie_id                                     title  \\\n0        19995                                    Avatar   \n1          285  Pirates of the Caribbean: At World's End   \n2       206647                                   Spectre   \n3        49026                     The Dark Knight Rises   \n4        49529                               John Carter   \n...        ...                                       ...   \n4798      9367                               El Mariachi   \n4799     72766                                 Newlyweds   \n4800    231617                 Signed, Sealed, Delivered   \n4801    126186                          Shanghai Calling   \n4802     25975                         My Date with Drew   \n\n                                                   cast  \\\n0     [{\"cast_id\": 242, \"character\": \"Jake Sully\", \"...   \n1     [{\"cast_id\": 4, \"character\": \"Captain Jack Spa...   \n2     [{\"cast_id\": 1, \"character\": \"James Bond\", \"cr...   \n3     [{\"cast_id\": 2, \"character\": \"Bruce Wayne / Ba...   \n4     [{\"cast_id\": 5, \"character\": \"John Carter\", \"c...   \n...                                                 ...   \n4798  [{\"cast_id\": 1, \"character\": \"El Mariachi\", \"c...   \n4799  [{\"cast_id\": 1, \"character\": \"Buzzy\", \"credit_...   \n4800  [{\"cast_id\": 8, \"character\": \"Oliver O\\u2019To...   \n4801  [{\"cast_id\": 3, \"character\": \"Sam\", \"credit_id...   \n4802  [{\"cast_id\": 3, \"character\": \"Herself\", \"credi...   \n\n                                                   crew  \n0     [{\"credit_id\": \"52fe48009251416c750aca23\", \"de...  \n1     [{\"credit_id\": \"52fe4232c3a36847f800b579\", \"de...  \n2     [{\"credit_id\": \"54805967c3a36829b5002c41\", \"de...  \n3     [{\"credit_id\": \"52fe4781c3a36847f81398c3\", \"de...  \n4     [{\"credit_id\": \"52fe479ac3a36847f813eaa3\", \"de...  \n...                                                 ...  \n4798  [{\"credit_id\": \"52fe44eec3a36847f80b280b\", \"de...  \n4799  [{\"credit_id\": \"52fe487dc3a368484e0fb013\", \"de...  \n4800  [{\"credit_id\": \"52fe4df3c3a36847f8275ecf\", \"de...  \n4801  [{\"credit_id\": \"52fe4ad9c3a368484e16a36b\", \"de...  \n4802  [{\"credit_id\": \"58ce021b9251415a390165d9\", \"de...  \n\n[4803 rows x 4 columns]",
      "text/html": "<div>\n<style scoped>\n    .dataframe tbody tr th:only-of-type {\n        vertical-align: middle;\n    }\n\n    .dataframe tbody tr th {\n        vertical-align: top;\n    }\n\n    .dataframe thead th {\n        text-align: right;\n    }\n</style>\n<table border=\"1\" class=\"dataframe\">\n  <thead>\n    <tr style=\"text-align: right;\">\n      <th></th>\n      <th>movie_id</th>\n      <th>title</th>\n      <th>cast</th>\n      <th>crew</th>\n    </tr>\n  </thead>\n  <tbody>\n    <tr>\n      <th>0</th>\n      <td>19995</td>\n      <td>Avatar</td>\n      <td>[{\"cast_id\": 242, \"character\": \"Jake Sully\", \"...</td>\n      <td>[{\"credit_id\": \"52fe48009251416c750aca23\", \"de...</td>\n    </tr>\n    <tr>\n      <th>1</th>\n      <td>285</td>\n      <td>Pirates of the Caribbean: At World's End</td>\n      <td>[{\"cast_id\": 4, \"character\": \"Captain Jack Spa...</td>\n      <td>[{\"credit_id\": \"52fe4232c3a36847f800b579\", \"de...</td>\n    </tr>\n    <tr>\n      <th>2</th>\n      <td>206647</td>\n      <td>Spectre</td>\n      <td>[{\"cast_id\": 1, \"character\": \"James Bond\", \"cr...</td>\n      <td>[{\"credit_id\": \"54805967c3a36829b5002c41\", \"de...</td>\n    </tr>\n    <tr>\n      <th>3</th>\n      <td>49026</td>\n      <td>The Dark Knight Rises</td>\n      <td>[{\"cast_id\": 2, \"character\": \"Bruce Wayne / Ba...</td>\n      <td>[{\"credit_id\": \"52fe4781c3a36847f81398c3\", \"de...</td>\n    </tr>\n    <tr>\n      <th>4</th>\n      <td>49529</td>\n      <td>John Carter</td>\n      <td>[{\"cast_id\": 5, \"character\": \"John Carter\", \"c...</td>\n      <td>[{\"credit_id\": \"52fe479ac3a36847f813eaa3\", \"de...</td>\n    </tr>\n    <tr>\n      <th>...</th>\n      <td>...</td>\n      <td>...</td>\n      <td>...</td>\n      <td>...</td>\n    </tr>\n    <tr>\n      <th>4798</th>\n      <td>9367</td>\n      <td>El Mariachi</td>\n      <td>[{\"cast_id\": 1, \"character\": \"El Mariachi\", \"c...</td>\n      <td>[{\"credit_id\": \"52fe44eec3a36847f80b280b\", \"de...</td>\n    </tr>\n    <tr>\n      <th>4799</th>\n      <td>72766</td>\n      <td>Newlyweds</td>\n      <td>[{\"cast_id\": 1, \"character\": \"Buzzy\", \"credit_...</td>\n      <td>[{\"credit_id\": \"52fe487dc3a368484e0fb013\", \"de...</td>\n    </tr>\n    <tr>\n      <th>4800</th>\n      <td>231617</td>\n      <td>Signed, Sealed, Delivered</td>\n      <td>[{\"cast_id\": 8, \"character\": \"Oliver O\\u2019To...</td>\n      <td>[{\"credit_id\": \"52fe4df3c3a36847f8275ecf\", \"de...</td>\n    </tr>\n    <tr>\n      <th>4801</th>\n      <td>126186</td>\n      <td>Shanghai Calling</td>\n      <td>[{\"cast_id\": 3, \"character\": \"Sam\", \"credit_id...</td>\n      <td>[{\"credit_id\": \"52fe4ad9c3a368484e16a36b\", \"de...</td>\n    </tr>\n    <tr>\n      <th>4802</th>\n      <td>25975</td>\n      <td>My Date with Drew</td>\n      <td>[{\"cast_id\": 3, \"character\": \"Herself\", \"credi...</td>\n      <td>[{\"credit_id\": \"58ce021b9251415a390165d9\", \"de...</td>\n    </tr>\n  </tbody>\n</table>\n<p>4803 rows × 4 columns</p>\n</div>"
     },
     "execution_count": 8,
     "metadata": {},
     "output_type": "execute_result"
    }
   ],
   "source": [
    "credits_df"
   ],
   "metadata": {
    "collapsed": false
   }
  },
  {
   "cell_type": "markdown",
   "source": [
    "# Предобработка данных"
   ],
   "metadata": {
    "collapsed": false
   }
  },
  {
   "cell_type": "code",
   "execution_count": 9,
   "outputs": [],
   "source": [
    "movies_df = movies_df.merge(credits_df.rename(columns={'movie_id': 'id'}).drop('title', axis=1),\n",
    "                                              on='id', how='left')"
   ],
   "metadata": {
    "collapsed": false
   }
  },
  {
   "cell_type": "code",
   "execution_count": 10,
   "outputs": [
    {
     "data": {
      "text/plain": "      budget                                             genres  \\\n0  237000000  [{\"id\": 28, \"name\": \"Action\"}, {\"id\": 12, \"nam...   \n1  300000000  [{\"id\": 12, \"name\": \"Adventure\"}, {\"id\": 14, \"...   \n2  245000000  [{\"id\": 28, \"name\": \"Action\"}, {\"id\": 12, \"nam...   \n3  250000000  [{\"id\": 28, \"name\": \"Action\"}, {\"id\": 80, \"nam...   \n4  260000000  [{\"id\": 28, \"name\": \"Action\"}, {\"id\": 12, \"nam...   \n\n                                       homepage      id  \\\n0                   http://www.avatarmovie.com/   19995   \n1  http://disney.go.com/disneypictures/pirates/     285   \n2   http://www.sonypictures.com/movies/spectre/  206647   \n3            http://www.thedarkknightrises.com/   49026   \n4          http://movies.disney.com/john-carter   49529   \n\n                                            keywords original_language  \\\n0  [{\"id\": 1463, \"name\": \"culture clash\"}, {\"id\":...                en   \n1  [{\"id\": 270, \"name\": \"ocean\"}, {\"id\": 726, \"na...                en   \n2  [{\"id\": 470, \"name\": \"spy\"}, {\"id\": 818, \"name...                en   \n3  [{\"id\": 849, \"name\": \"dc comics\"}, {\"id\": 853,...                en   \n4  [{\"id\": 818, \"name\": \"based on novel\"}, {\"id\":...                en   \n\n                             original_title  \\\n0                                    Avatar   \n1  Pirates of the Caribbean: At World's End   \n2                                   Spectre   \n3                     The Dark Knight Rises   \n4                               John Carter   \n\n                                            overview  popularity  \\\n0  In the 22nd century, a paraplegic Marine is di...  150.437577   \n1  Captain Barbossa, long believed to be dead, ha...  139.082615   \n2  A cryptic message from Bond’s past sends him o...  107.376788   \n3  Following the death of District Attorney Harve...  112.312950   \n4  John Carter is a war-weary, former military ca...   43.926995   \n\n                                production_companies  ...     revenue runtime  \\\n0  [{\"name\": \"Ingenious Film Partners\", \"id\": 289...  ...  2787965087   162.0   \n1  [{\"name\": \"Walt Disney Pictures\", \"id\": 2}, {\"...  ...   961000000   169.0   \n2  [{\"name\": \"Columbia Pictures\", \"id\": 5}, {\"nam...  ...   880674609   148.0   \n3  [{\"name\": \"Legendary Pictures\", \"id\": 923}, {\"...  ...  1084939099   165.0   \n4        [{\"name\": \"Walt Disney Pictures\", \"id\": 2}]  ...   284139100   132.0   \n\n                                    spoken_languages    status  \\\n0  [{\"iso_639_1\": \"en\", \"name\": \"English\"}, {\"iso...  Released   \n1           [{\"iso_639_1\": \"en\", \"name\": \"English\"}]  Released   \n2  [{\"iso_639_1\": \"fr\", \"name\": \"Fran\\u00e7ais\"},...  Released   \n3           [{\"iso_639_1\": \"en\", \"name\": \"English\"}]  Released   \n4           [{\"iso_639_1\": \"en\", \"name\": \"English\"}]  Released   \n\n                                          tagline  \\\n0                     Enter the World of Pandora.   \n1  At the end of the world, the adventure begins.   \n2                           A Plan No One Escapes   \n3                                 The Legend Ends   \n4            Lost in our world, found in another.   \n\n                                      title vote_average vote_count  \\\n0                                    Avatar          7.2      11800   \n1  Pirates of the Caribbean: At World's End          6.9       4500   \n2                                   Spectre          6.3       4466   \n3                     The Dark Knight Rises          7.6       9106   \n4                               John Carter          6.1       2124   \n\n                                                cast  \\\n0  [{\"cast_id\": 242, \"character\": \"Jake Sully\", \"...   \n1  [{\"cast_id\": 4, \"character\": \"Captain Jack Spa...   \n2  [{\"cast_id\": 1, \"character\": \"James Bond\", \"cr...   \n3  [{\"cast_id\": 2, \"character\": \"Bruce Wayne / Ba...   \n4  [{\"cast_id\": 5, \"character\": \"John Carter\", \"c...   \n\n                                                crew  \n0  [{\"credit_id\": \"52fe48009251416c750aca23\", \"de...  \n1  [{\"credit_id\": \"52fe4232c3a36847f800b579\", \"de...  \n2  [{\"credit_id\": \"54805967c3a36829b5002c41\", \"de...  \n3  [{\"credit_id\": \"52fe4781c3a36847f81398c3\", \"de...  \n4  [{\"credit_id\": \"52fe479ac3a36847f813eaa3\", \"de...  \n\n[5 rows x 22 columns]",
      "text/html": "<div>\n<style scoped>\n    .dataframe tbody tr th:only-of-type {\n        vertical-align: middle;\n    }\n\n    .dataframe tbody tr th {\n        vertical-align: top;\n    }\n\n    .dataframe thead th {\n        text-align: right;\n    }\n</style>\n<table border=\"1\" class=\"dataframe\">\n  <thead>\n    <tr style=\"text-align: right;\">\n      <th></th>\n      <th>budget</th>\n      <th>genres</th>\n      <th>homepage</th>\n      <th>id</th>\n      <th>keywords</th>\n      <th>original_language</th>\n      <th>original_title</th>\n      <th>overview</th>\n      <th>popularity</th>\n      <th>production_companies</th>\n      <th>...</th>\n      <th>revenue</th>\n      <th>runtime</th>\n      <th>spoken_languages</th>\n      <th>status</th>\n      <th>tagline</th>\n      <th>title</th>\n      <th>vote_average</th>\n      <th>vote_count</th>\n      <th>cast</th>\n      <th>crew</th>\n    </tr>\n  </thead>\n  <tbody>\n    <tr>\n      <th>0</th>\n      <td>237000000</td>\n      <td>[{\"id\": 28, \"name\": \"Action\"}, {\"id\": 12, \"nam...</td>\n      <td>http://www.avatarmovie.com/</td>\n      <td>19995</td>\n      <td>[{\"id\": 1463, \"name\": \"culture clash\"}, {\"id\":...</td>\n      <td>en</td>\n      <td>Avatar</td>\n      <td>In the 22nd century, a paraplegic Marine is di...</td>\n      <td>150.437577</td>\n      <td>[{\"name\": \"Ingenious Film Partners\", \"id\": 289...</td>\n      <td>...</td>\n      <td>2787965087</td>\n      <td>162.0</td>\n      <td>[{\"iso_639_1\": \"en\", \"name\": \"English\"}, {\"iso...</td>\n      <td>Released</td>\n      <td>Enter the World of Pandora.</td>\n      <td>Avatar</td>\n      <td>7.2</td>\n      <td>11800</td>\n      <td>[{\"cast_id\": 242, \"character\": \"Jake Sully\", \"...</td>\n      <td>[{\"credit_id\": \"52fe48009251416c750aca23\", \"de...</td>\n    </tr>\n    <tr>\n      <th>1</th>\n      <td>300000000</td>\n      <td>[{\"id\": 12, \"name\": \"Adventure\"}, {\"id\": 14, \"...</td>\n      <td>http://disney.go.com/disneypictures/pirates/</td>\n      <td>285</td>\n      <td>[{\"id\": 270, \"name\": \"ocean\"}, {\"id\": 726, \"na...</td>\n      <td>en</td>\n      <td>Pirates of the Caribbean: At World's End</td>\n      <td>Captain Barbossa, long believed to be dead, ha...</td>\n      <td>139.082615</td>\n      <td>[{\"name\": \"Walt Disney Pictures\", \"id\": 2}, {\"...</td>\n      <td>...</td>\n      <td>961000000</td>\n      <td>169.0</td>\n      <td>[{\"iso_639_1\": \"en\", \"name\": \"English\"}]</td>\n      <td>Released</td>\n      <td>At the end of the world, the adventure begins.</td>\n      <td>Pirates of the Caribbean: At World's End</td>\n      <td>6.9</td>\n      <td>4500</td>\n      <td>[{\"cast_id\": 4, \"character\": \"Captain Jack Spa...</td>\n      <td>[{\"credit_id\": \"52fe4232c3a36847f800b579\", \"de...</td>\n    </tr>\n    <tr>\n      <th>2</th>\n      <td>245000000</td>\n      <td>[{\"id\": 28, \"name\": \"Action\"}, {\"id\": 12, \"nam...</td>\n      <td>http://www.sonypictures.com/movies/spectre/</td>\n      <td>206647</td>\n      <td>[{\"id\": 470, \"name\": \"spy\"}, {\"id\": 818, \"name...</td>\n      <td>en</td>\n      <td>Spectre</td>\n      <td>A cryptic message from Bond’s past sends him o...</td>\n      <td>107.376788</td>\n      <td>[{\"name\": \"Columbia Pictures\", \"id\": 5}, {\"nam...</td>\n      <td>...</td>\n      <td>880674609</td>\n      <td>148.0</td>\n      <td>[{\"iso_639_1\": \"fr\", \"name\": \"Fran\\u00e7ais\"},...</td>\n      <td>Released</td>\n      <td>A Plan No One Escapes</td>\n      <td>Spectre</td>\n      <td>6.3</td>\n      <td>4466</td>\n      <td>[{\"cast_id\": 1, \"character\": \"James Bond\", \"cr...</td>\n      <td>[{\"credit_id\": \"54805967c3a36829b5002c41\", \"de...</td>\n    </tr>\n    <tr>\n      <th>3</th>\n      <td>250000000</td>\n      <td>[{\"id\": 28, \"name\": \"Action\"}, {\"id\": 80, \"nam...</td>\n      <td>http://www.thedarkknightrises.com/</td>\n      <td>49026</td>\n      <td>[{\"id\": 849, \"name\": \"dc comics\"}, {\"id\": 853,...</td>\n      <td>en</td>\n      <td>The Dark Knight Rises</td>\n      <td>Following the death of District Attorney Harve...</td>\n      <td>112.312950</td>\n      <td>[{\"name\": \"Legendary Pictures\", \"id\": 923}, {\"...</td>\n      <td>...</td>\n      <td>1084939099</td>\n      <td>165.0</td>\n      <td>[{\"iso_639_1\": \"en\", \"name\": \"English\"}]</td>\n      <td>Released</td>\n      <td>The Legend Ends</td>\n      <td>The Dark Knight Rises</td>\n      <td>7.6</td>\n      <td>9106</td>\n      <td>[{\"cast_id\": 2, \"character\": \"Bruce Wayne / Ba...</td>\n      <td>[{\"credit_id\": \"52fe4781c3a36847f81398c3\", \"de...</td>\n    </tr>\n    <tr>\n      <th>4</th>\n      <td>260000000</td>\n      <td>[{\"id\": 28, \"name\": \"Action\"}, {\"id\": 12, \"nam...</td>\n      <td>http://movies.disney.com/john-carter</td>\n      <td>49529</td>\n      <td>[{\"id\": 818, \"name\": \"based on novel\"}, {\"id\":...</td>\n      <td>en</td>\n      <td>John Carter</td>\n      <td>John Carter is a war-weary, former military ca...</td>\n      <td>43.926995</td>\n      <td>[{\"name\": \"Walt Disney Pictures\", \"id\": 2}]</td>\n      <td>...</td>\n      <td>284139100</td>\n      <td>132.0</td>\n      <td>[{\"iso_639_1\": \"en\", \"name\": \"English\"}]</td>\n      <td>Released</td>\n      <td>Lost in our world, found in another.</td>\n      <td>John Carter</td>\n      <td>6.1</td>\n      <td>2124</td>\n      <td>[{\"cast_id\": 5, \"character\": \"John Carter\", \"c...</td>\n      <td>[{\"credit_id\": \"52fe479ac3a36847f813eaa3\", \"de...</td>\n    </tr>\n  </tbody>\n</table>\n<p>5 rows × 22 columns</p>\n</div>"
     },
     "execution_count": 10,
     "metadata": {},
     "output_type": "execute_result"
    }
   ],
   "source": [
    "movies_df.head()"
   ],
   "metadata": {
    "collapsed": false
   }
  },
  {
   "cell_type": "code",
   "execution_count": 11,
   "outputs": [
    {
     "data": {
      "text/plain": "['budget',\n 'genres',\n 'homepage',\n 'id',\n 'keywords',\n 'original_language',\n 'original_title',\n 'overview',\n 'popularity',\n 'production_companies',\n 'production_countries',\n 'release_date',\n 'revenue',\n 'runtime',\n 'spoken_languages',\n 'status',\n 'tagline',\n 'title',\n 'vote_average',\n 'vote_count',\n 'cast',\n 'crew']"
     },
     "execution_count": 11,
     "metadata": {},
     "output_type": "execute_result"
    }
   ],
   "source": [
    "movies_df.columns.tolist()"
   ],
   "metadata": {
    "collapsed": false
   }
  },
  {
   "cell_type": "code",
   "execution_count": 12,
   "outputs": [],
   "source": [
    "movies_df['release_date'] = pd.to_datetime(movies_df['release_date'])"
   ],
   "metadata": {
    "collapsed": false
   }
  },
  {
   "cell_type": "code",
   "execution_count": 13,
   "outputs": [
    {
     "data": {
      "text/plain": "budget                     0\ngenres                     0\nhomepage                3091\nid                         0\nkeywords                   0\noriginal_language          0\noriginal_title             0\noverview                   3\npopularity                 0\nproduction_companies       0\nproduction_countries       0\nrelease_date               1\nrevenue                    0\nruntime                    2\nspoken_languages           0\nstatus                     0\ntagline                  844\ntitle                      0\nvote_average               0\nvote_count                 0\ncast                       0\ncrew                       0\ndtype: int64"
     },
     "execution_count": 13,
     "metadata": {},
     "output_type": "execute_result"
    }
   ],
   "source": [
    "movies_df.isna().sum()"
   ],
   "metadata": {
    "collapsed": false
   }
  },
  {
   "cell_type": "code",
   "execution_count": 14,
   "outputs": [
    {
     "data": {
      "text/plain": "        budget                               genres homepage      id  \\\n2656  15000000        [{\"id\": 18, \"name\": \"Drama\"}]      NaN  370980   \n4140         2  [{\"id\": 99, \"name\": \"Documentary\"}]      NaN  459488   \n4431    913000  [{\"id\": 99, \"name\": \"Documentary\"}]      NaN  292539   \n\n                                               keywords original_language  \\\n2656  [{\"id\": 717, \"name\": \"pope\"}, {\"id\": 5565, \"na...                it   \n4140  [{\"id\": 6027, \"name\": \"music\"}, {\"id\": 225822,...                en   \n4431                                                 []                de   \n\n                                  original_title overview  popularity  \\\n2656  Chiamatemi Francesco - Il Papa della gente      NaN    0.738646   \n4140                 To Be Frank, Sinatra at 100      NaN    0.050625   \n4431                                 Food Chains      NaN    0.795698   \n\n                                  production_companies  ... revenue runtime  \\\n2656            [{\"name\": \"Taodue Film\", \"id\": 45724}]  ...       0     NaN   \n4140  [{\"name\": \"Eyeline Entertainment\", \"id\": 60343}]  ...       0     NaN   \n4431                                                []  ...       0    83.0   \n\n                                   spoken_languages    status tagline  \\\n2656  [{\"iso_639_1\": \"es\", \"name\": \"Espa\\u00f1ol\"}]  Released     NaN   \n4140                                             []  Released     NaN   \n4431       [{\"iso_639_1\": \"en\", \"name\": \"English\"}]  Released     NaN   \n\n                                           title vote_average vote_count  \\\n2656  Chiamatemi Francesco - Il Papa della gente          7.3         12   \n4140                 To Be Frank, Sinatra at 100          0.0          0   \n4431                                 Food Chains          7.4          8   \n\n                                                   cast  \\\n2656  [{\"cast_id\": 5, \"character\": \"Jorge Mario Berg...   \n4140  [{\"cast_id\": 0, \"character\": \"Narrator\", \"cred...   \n4431                                                 []   \n\n                                                   crew  \n2656  [{\"credit_id\": \"5660019ac3a36875f100252b\", \"de...  \n4140  [{\"credit_id\": \"592b25e4c3a368783e065a2f\", \"de...  \n4431  [{\"credit_id\": \"5470c3b1c3a368085e000abd\", \"de...  \n\n[3 rows x 22 columns]",
      "text/html": "<div>\n<style scoped>\n    .dataframe tbody tr th:only-of-type {\n        vertical-align: middle;\n    }\n\n    .dataframe tbody tr th {\n        vertical-align: top;\n    }\n\n    .dataframe thead th {\n        text-align: right;\n    }\n</style>\n<table border=\"1\" class=\"dataframe\">\n  <thead>\n    <tr style=\"text-align: right;\">\n      <th></th>\n      <th>budget</th>\n      <th>genres</th>\n      <th>homepage</th>\n      <th>id</th>\n      <th>keywords</th>\n      <th>original_language</th>\n      <th>original_title</th>\n      <th>overview</th>\n      <th>popularity</th>\n      <th>production_companies</th>\n      <th>...</th>\n      <th>revenue</th>\n      <th>runtime</th>\n      <th>spoken_languages</th>\n      <th>status</th>\n      <th>tagline</th>\n      <th>title</th>\n      <th>vote_average</th>\n      <th>vote_count</th>\n      <th>cast</th>\n      <th>crew</th>\n    </tr>\n  </thead>\n  <tbody>\n    <tr>\n      <th>2656</th>\n      <td>15000000</td>\n      <td>[{\"id\": 18, \"name\": \"Drama\"}]</td>\n      <td>NaN</td>\n      <td>370980</td>\n      <td>[{\"id\": 717, \"name\": \"pope\"}, {\"id\": 5565, \"na...</td>\n      <td>it</td>\n      <td>Chiamatemi Francesco - Il Papa della gente</td>\n      <td>NaN</td>\n      <td>0.738646</td>\n      <td>[{\"name\": \"Taodue Film\", \"id\": 45724}]</td>\n      <td>...</td>\n      <td>0</td>\n      <td>NaN</td>\n      <td>[{\"iso_639_1\": \"es\", \"name\": \"Espa\\u00f1ol\"}]</td>\n      <td>Released</td>\n      <td>NaN</td>\n      <td>Chiamatemi Francesco - Il Papa della gente</td>\n      <td>7.3</td>\n      <td>12</td>\n      <td>[{\"cast_id\": 5, \"character\": \"Jorge Mario Berg...</td>\n      <td>[{\"credit_id\": \"5660019ac3a36875f100252b\", \"de...</td>\n    </tr>\n    <tr>\n      <th>4140</th>\n      <td>2</td>\n      <td>[{\"id\": 99, \"name\": \"Documentary\"}]</td>\n      <td>NaN</td>\n      <td>459488</td>\n      <td>[{\"id\": 6027, \"name\": \"music\"}, {\"id\": 225822,...</td>\n      <td>en</td>\n      <td>To Be Frank, Sinatra at 100</td>\n      <td>NaN</td>\n      <td>0.050625</td>\n      <td>[{\"name\": \"Eyeline Entertainment\", \"id\": 60343}]</td>\n      <td>...</td>\n      <td>0</td>\n      <td>NaN</td>\n      <td>[]</td>\n      <td>Released</td>\n      <td>NaN</td>\n      <td>To Be Frank, Sinatra at 100</td>\n      <td>0.0</td>\n      <td>0</td>\n      <td>[{\"cast_id\": 0, \"character\": \"Narrator\", \"cred...</td>\n      <td>[{\"credit_id\": \"592b25e4c3a368783e065a2f\", \"de...</td>\n    </tr>\n    <tr>\n      <th>4431</th>\n      <td>913000</td>\n      <td>[{\"id\": 99, \"name\": \"Documentary\"}]</td>\n      <td>NaN</td>\n      <td>292539</td>\n      <td>[]</td>\n      <td>de</td>\n      <td>Food Chains</td>\n      <td>NaN</td>\n      <td>0.795698</td>\n      <td>[]</td>\n      <td>...</td>\n      <td>0</td>\n      <td>83.0</td>\n      <td>[{\"iso_639_1\": \"en\", \"name\": \"English\"}]</td>\n      <td>Released</td>\n      <td>NaN</td>\n      <td>Food Chains</td>\n      <td>7.4</td>\n      <td>8</td>\n      <td>[]</td>\n      <td>[{\"credit_id\": \"5470c3b1c3a368085e000abd\", \"de...</td>\n    </tr>\n  </tbody>\n</table>\n<p>3 rows × 22 columns</p>\n</div>"
     },
     "execution_count": 14,
     "metadata": {},
     "output_type": "execute_result"
    }
   ],
   "source": [
    "movies_df[movies_df['overview'].isna()]"
   ],
   "metadata": {
    "collapsed": false
   }
  },
  {
   "cell_type": "code",
   "execution_count": 15,
   "outputs": [
    {
     "data": {
      "text/plain": "0    In the 22nd century, a paraplegic Marine is di...\n1    Captain Barbossa, long believed to be dead, ha...\n2    A cryptic message from Bond’s past sends him o...\n3    Following the death of District Attorney Harve...\n4    John Carter is a war-weary, former military ca...\nName: overview, dtype: object"
     },
     "execution_count": 15,
     "metadata": {},
     "output_type": "execute_result"
    }
   ],
   "source": [
    "movies_df['overview'].head(5)"
   ],
   "metadata": {
    "collapsed": false
   }
  },
  {
   "cell_type": "markdown",
   "source": [
    "# Написание рекомендательных систем"
   ],
   "metadata": {
    "collapsed": false
   }
  },
  {
   "cell_type": "markdown",
   "source": [
    "## Content-Based Filtering"
   ],
   "metadata": {
    "collapsed": false
   }
  },
  {
   "cell_type": "markdown",
   "source": [
    "### Plot Description Based Recommender"
   ],
   "metadata": {
    "collapsed": false
   }
  },
  {
   "cell_type": "markdown",
   "source": [
    "#### Мы воспользуемся TF-IDfF, чтобы преобразовать сюжет фильма в вектор"
   ],
   "metadata": {
    "collapsed": false
   }
  },
  {
   "cell_type": "code",
   "execution_count": 16,
   "outputs": [
    {
     "data": {
      "text/plain": "(4803, 20978)"
     },
     "execution_count": 16,
     "metadata": {},
     "output_type": "execute_result"
    }
   ],
   "source": [
    "#Import TfIdfVectorizer from scikit-learn\n",
    "from sklearn.feature_extraction.text import TfidfVectorizer\n",
    "\n",
    "#Define a TF-IDF Vectorizer Object. Remove all english stop words such as 'the', 'a'\n",
    "tfidf = TfidfVectorizer(stop_words='english')\n",
    "\n",
    "#Replace NaN with an empty string\n",
    "movies_df['overview'] = movies_df['overview'].fillna('')\n",
    "\n",
    "#Construct the required TF-IDF matrix by fitting and transforming the data\n",
    "tfidf_matrix = tfidf.fit_transform(movies_df['overview'])\n",
    "\n",
    "#Output the shape of tfidf_matrix\n",
    "tfidf_matrix.shape"
   ],
   "metadata": {
    "collapsed": false
   }
  },
  {
   "cell_type": "markdown",
   "source": [
    "#### `cosine_sim` - матрица расстояний близости сюжетов фильмов"
   ],
   "metadata": {
    "collapsed": false
   }
  },
  {
   "cell_type": "code",
   "execution_count": 17,
   "outputs": [],
   "source": [
    "# Import linear_kernel\n",
    "from sklearn.metrics.pairwise import linear_kernel\n",
    "\n",
    "# Compute the cosine similarity matrix\n",
    "cosine_sim = linear_kernel(tfidf_matrix, tfidf_matrix)"
   ],
   "metadata": {
    "collapsed": false
   }
  },
  {
   "cell_type": "code",
   "execution_count": 18,
   "outputs": [],
   "source": [
    "#Construct a reverse map of indices and movie titles\n",
    "indices = pd.Series(movies_df.index, index=movies_df['title']).drop_duplicates()"
   ],
   "metadata": {
    "collapsed": false
   }
  },
  {
   "cell_type": "markdown",
   "source": [
    "#### Функция для вывода рекомендаций"
   ],
   "metadata": {
    "collapsed": false
   }
  },
  {
   "cell_type": "code",
   "execution_count": 24,
   "outputs": [
    {
     "name": "stdout",
     "output_type": "stream",
     "text": [
      "{'a': 3, 'b': 1, 'c': 10}\n"
     ]
    }
   ],
   "source": [
    "a = {'a': 2, 'b': 1}\n",
    "\n",
    "b = {'a': 3, 'c': 10}\n",
    "\n",
    "print(a | b)"
   ],
   "metadata": {
    "collapsed": false
   }
  },
  {
   "cell_type": "code",
   "execution_count": 204,
   "outputs": [],
   "source": [
    "# Function that takes in movie title as input and outputs most similar movies\n",
    "def get_recommendations(title, distance_matrix=cosine_sim):\n",
    "    # Get the index of the movie that matches the title\n",
    "    idx = indices[title]\n",
    "\n",
    "    # Get the pairwsie similarity scores of all movies with that movie\n",
    "    sim_scores = list(enumerate(distance_matrix[idx]))\n",
    "\n",
    "    # Sort the movies based on the similarity scores\n",
    "    sim_scores = sorted(sim_scores, key=lambda x: x[1], reverse=True)\n",
    "\n",
    "    # Get the scores of the 10 most similar movies\n",
    "    sim_scores = sim_scores[1:11]\n",
    "\n",
    "    # Get the movie indices\n",
    "    movie_indices = [i[0] for i in sim_scores]\n",
    "\n",
    "    # Return the top 10 most similar movies\n",
    "    return movies_df['title'].iloc[movie_indices]"
   ],
   "metadata": {
    "collapsed": false
   }
  },
  {
   "cell_type": "code",
   "execution_count": 205,
   "outputs": [
    {
     "data": {
      "text/plain": "65                              The Dark Knight\n299                              Batman Forever\n428                              Batman Returns\n1359                                     Batman\n3854    Batman: The Dark Knight Returns, Part 2\n119                               Batman Begins\n2507                                  Slow Burn\n9            Batman v Superman: Dawn of Justice\n1181                                        JFK\n210                              Batman & Robin\nName: title, dtype: object"
     },
     "execution_count": 205,
     "metadata": {},
     "output_type": "execute_result"
    }
   ],
   "source": [
    "get_recommendations('The Dark Knight Rises')"
   ],
   "metadata": {
    "collapsed": false
   }
  },
  {
   "cell_type": "code",
   "execution_count": 206,
   "outputs": [
    {
     "data": {
      "text/plain": "7               Avengers: Age of Ultron\n3144                            Plastic\n1715                            Timecop\n4124                 This Thing of Ours\n3311              Thank You for Smoking\n3033                      The Corruptor\n588     Wall Street: Money Never Sleeps\n2136         Team America: World Police\n1468                       The Fountain\n1286                        Snowpiercer\nName: title, dtype: object"
     },
     "execution_count": 206,
     "metadata": {},
     "output_type": "execute_result"
    }
   ],
   "source": [
    "get_recommendations('The Avengers')"
   ],
   "metadata": {
    "collapsed": false
   }
  },
  {
   "cell_type": "markdown",
   "source": [
    "### Genre, Actors, Director, Language, Keywords Based Recommender"
   ],
   "metadata": {
    "collapsed": false
   }
  },
  {
   "cell_type": "markdown",
   "source": [
    "#### Предобработка данных"
   ],
   "metadata": {
    "collapsed": false
   }
  },
  {
   "cell_type": "code",
   "execution_count": 207,
   "outputs": [],
   "source": [
    "# Parse the stringified features into their corresponding python objects\n",
    "from ast import literal_eval\n",
    "\n",
    "features = ['cast', 'crew', 'keywords', 'genres']\n",
    "for feature in features:\n",
    "    movies_df[feature] = movies_df[feature].apply(literal_eval)"
   ],
   "metadata": {
    "collapsed": false
   }
  },
  {
   "cell_type": "code",
   "execution_count": 208,
   "outputs": [
    {
     "data": {
      "text/plain": "[{'cast_id': 242,\n  'character': 'Jake Sully',\n  'credit_id': '5602a8a7c3a3685532001c9a',\n  'gender': 2,\n  'id': 65731,\n  'name': 'Sam Worthington',\n  'order': 0},\n {'cast_id': 3,\n  'character': 'Neytiri',\n  'credit_id': '52fe48009251416c750ac9cb',\n  'gender': 1,\n  'id': 8691,\n  'name': 'Zoe Saldana',\n  'order': 1},\n {'cast_id': 25,\n  'character': 'Dr. Grace Augustine',\n  'credit_id': '52fe48009251416c750aca39',\n  'gender': 1,\n  'id': 10205,\n  'name': 'Sigourney Weaver',\n  'order': 2},\n {'cast_id': 4,\n  'character': 'Col. Quaritch',\n  'credit_id': '52fe48009251416c750ac9cf',\n  'gender': 2,\n  'id': 32747,\n  'name': 'Stephen Lang',\n  'order': 3},\n {'cast_id': 5,\n  'character': 'Trudy Chacon',\n  'credit_id': '52fe48009251416c750ac9d3',\n  'gender': 1,\n  'id': 17647,\n  'name': 'Michelle Rodriguez',\n  'order': 4},\n {'cast_id': 8,\n  'character': 'Selfridge',\n  'credit_id': '52fe48009251416c750ac9e1',\n  'gender': 2,\n  'id': 1771,\n  'name': 'Giovanni Ribisi',\n  'order': 5},\n {'cast_id': 7,\n  'character': 'Norm Spellman',\n  'credit_id': '52fe48009251416c750ac9dd',\n  'gender': 2,\n  'id': 59231,\n  'name': 'Joel David Moore',\n  'order': 6},\n {'cast_id': 9,\n  'character': 'Moat',\n  'credit_id': '52fe48009251416c750ac9e5',\n  'gender': 1,\n  'id': 30485,\n  'name': 'CCH Pounder',\n  'order': 7},\n {'cast_id': 11,\n  'character': 'Eytukan',\n  'credit_id': '52fe48009251416c750ac9ed',\n  'gender': 2,\n  'id': 15853,\n  'name': 'Wes Studi',\n  'order': 8},\n {'cast_id': 10,\n  'character': \"Tsu'Tey\",\n  'credit_id': '52fe48009251416c750ac9e9',\n  'gender': 2,\n  'id': 10964,\n  'name': 'Laz Alonso',\n  'order': 9},\n {'cast_id': 12,\n  'character': 'Dr. Max Patel',\n  'credit_id': '52fe48009251416c750ac9f1',\n  'gender': 2,\n  'id': 95697,\n  'name': 'Dileep Rao',\n  'order': 10},\n {'cast_id': 13,\n  'character': 'Lyle Wainfleet',\n  'credit_id': '52fe48009251416c750ac9f5',\n  'gender': 2,\n  'id': 98215,\n  'name': 'Matt Gerald',\n  'order': 11},\n {'cast_id': 32,\n  'character': 'Private Fike',\n  'credit_id': '52fe48009251416c750aca5b',\n  'gender': 2,\n  'id': 154153,\n  'name': 'Sean Anthony Moran',\n  'order': 12},\n {'cast_id': 33,\n  'character': 'Cryo Vault Med Tech',\n  'credit_id': '52fe48009251416c750aca5f',\n  'gender': 2,\n  'id': 397312,\n  'name': 'Jason Whyte',\n  'order': 13},\n {'cast_id': 34,\n  'character': 'Venture Star Crew Chief',\n  'credit_id': '52fe48009251416c750aca63',\n  'gender': 2,\n  'id': 42317,\n  'name': 'Scott Lawrence',\n  'order': 14},\n {'cast_id': 35,\n  'character': 'Lock Up Trooper',\n  'credit_id': '52fe48009251416c750aca67',\n  'gender': 2,\n  'id': 986734,\n  'name': 'Kelly Kilgour',\n  'order': 15},\n {'cast_id': 36,\n  'character': 'Shuttle Pilot',\n  'credit_id': '52fe48009251416c750aca6b',\n  'gender': 0,\n  'id': 1207227,\n  'name': 'James Patrick Pitt',\n  'order': 16},\n {'cast_id': 37,\n  'character': 'Shuttle Co-Pilot',\n  'credit_id': '52fe48009251416c750aca6f',\n  'gender': 0,\n  'id': 1180936,\n  'name': 'Sean Patrick Murphy',\n  'order': 17},\n {'cast_id': 38,\n  'character': 'Shuttle Crew Chief',\n  'credit_id': '52fe48009251416c750aca73',\n  'gender': 2,\n  'id': 1019578,\n  'name': 'Peter Dillon',\n  'order': 18},\n {'cast_id': 39,\n  'character': 'Tractor Operator / Troupe',\n  'credit_id': '52fe48009251416c750aca77',\n  'gender': 0,\n  'id': 91443,\n  'name': 'Kevin Dorman',\n  'order': 19},\n {'cast_id': 40,\n  'character': 'Dragon Gunship Pilot',\n  'credit_id': '52fe48009251416c750aca7b',\n  'gender': 2,\n  'id': 173391,\n  'name': 'Kelson Henderson',\n  'order': 20},\n {'cast_id': 41,\n  'character': 'Dragon Gunship Gunner',\n  'credit_id': '52fe48009251416c750aca7f',\n  'gender': 0,\n  'id': 1207236,\n  'name': 'David Van Horn',\n  'order': 21},\n {'cast_id': 42,\n  'character': 'Dragon Gunship Navigator',\n  'credit_id': '52fe48009251416c750aca83',\n  'gender': 0,\n  'id': 215913,\n  'name': 'Jacob Tomuri',\n  'order': 22},\n {'cast_id': 43,\n  'character': 'Suit #1',\n  'credit_id': '52fe48009251416c750aca87',\n  'gender': 0,\n  'id': 143206,\n  'name': 'Michael Blain-Rozgay',\n  'order': 23},\n {'cast_id': 44,\n  'character': 'Suit #2',\n  'credit_id': '52fe48009251416c750aca8b',\n  'gender': 2,\n  'id': 169676,\n  'name': 'Jon Curry',\n  'order': 24},\n {'cast_id': 46,\n  'character': 'Ambient Room Tech',\n  'credit_id': '52fe48009251416c750aca8f',\n  'gender': 0,\n  'id': 1048610,\n  'name': 'Luke Hawker',\n  'order': 25},\n {'cast_id': 47,\n  'character': 'Ambient Room Tech / Troupe',\n  'credit_id': '52fe48009251416c750aca93',\n  'gender': 0,\n  'id': 42288,\n  'name': 'Woody Schultz',\n  'order': 26},\n {'cast_id': 48,\n  'character': 'Horse Clan Leader',\n  'credit_id': '52fe48009251416c750aca97',\n  'gender': 2,\n  'id': 68278,\n  'name': 'Peter Mensah',\n  'order': 27},\n {'cast_id': 49,\n  'character': 'Link Room Tech',\n  'credit_id': '52fe48009251416c750aca9b',\n  'gender': 0,\n  'id': 1207247,\n  'name': 'Sonia Yee',\n  'order': 28},\n {'cast_id': 50,\n  'character': 'Basketball Avatar / Troupe',\n  'credit_id': '52fe48009251416c750aca9f',\n  'gender': 1,\n  'id': 1207248,\n  'name': 'Jahnel Curfman',\n  'order': 29},\n {'cast_id': 51,\n  'character': 'Basketball Avatar',\n  'credit_id': '52fe48009251416c750acaa3',\n  'gender': 0,\n  'id': 89714,\n  'name': 'Ilram Choi',\n  'order': 30},\n {'cast_id': 52,\n  'character': \"Na'vi Child\",\n  'credit_id': '52fe48009251416c750acaa7',\n  'gender': 0,\n  'id': 1207249,\n  'name': 'Kyla Warren',\n  'order': 31},\n {'cast_id': 53,\n  'character': 'Troupe',\n  'credit_id': '52fe48009251416c750acaab',\n  'gender': 0,\n  'id': 1207250,\n  'name': 'Lisa Roumain',\n  'order': 32},\n {'cast_id': 54,\n  'character': 'Troupe',\n  'credit_id': '52fe48009251416c750acaaf',\n  'gender': 1,\n  'id': 83105,\n  'name': 'Debra Wilson',\n  'order': 33},\n {'cast_id': 57,\n  'character': 'Troupe',\n  'credit_id': '52fe48009251416c750acabb',\n  'gender': 0,\n  'id': 1207253,\n  'name': 'Chris Mala',\n  'order': 34},\n {'cast_id': 55,\n  'character': 'Troupe',\n  'credit_id': '52fe48009251416c750acab3',\n  'gender': 0,\n  'id': 1207251,\n  'name': 'Taylor Kibby',\n  'order': 35},\n {'cast_id': 56,\n  'character': 'Troupe',\n  'credit_id': '52fe48009251416c750acab7',\n  'gender': 0,\n  'id': 1207252,\n  'name': 'Jodie Landau',\n  'order': 36},\n {'cast_id': 58,\n  'character': 'Troupe',\n  'credit_id': '52fe48009251416c750acabf',\n  'gender': 0,\n  'id': 1207254,\n  'name': 'Julie Lamm',\n  'order': 37},\n {'cast_id': 59,\n  'character': 'Troupe',\n  'credit_id': '52fe48009251416c750acac3',\n  'gender': 0,\n  'id': 1207257,\n  'name': 'Cullen B. Madden',\n  'order': 38},\n {'cast_id': 60,\n  'character': 'Troupe',\n  'credit_id': '52fe48009251416c750acac7',\n  'gender': 0,\n  'id': 1207259,\n  'name': 'Joseph Brady Madden',\n  'order': 39},\n {'cast_id': 61,\n  'character': 'Troupe',\n  'credit_id': '52fe48009251416c750acacb',\n  'gender': 0,\n  'id': 1207262,\n  'name': 'Frankie Torres',\n  'order': 40},\n {'cast_id': 62,\n  'character': 'Troupe',\n  'credit_id': '52fe48009251416c750acacf',\n  'gender': 1,\n  'id': 1158600,\n  'name': 'Austin Wilson',\n  'order': 41},\n {'cast_id': 63,\n  'character': 'Troupe',\n  'credit_id': '52fe48019251416c750acad3',\n  'gender': 1,\n  'id': 983705,\n  'name': 'Sara Wilson',\n  'order': 42},\n {'cast_id': 64,\n  'character': 'Troupe',\n  'credit_id': '52fe48019251416c750acad7',\n  'gender': 0,\n  'id': 1207263,\n  'name': 'Tamica Washington-Miller',\n  'order': 43},\n {'cast_id': 65,\n  'character': 'Op Center Staff',\n  'credit_id': '52fe48019251416c750acadb',\n  'gender': 1,\n  'id': 1145098,\n  'name': 'Lucy Briant',\n  'order': 44},\n {'cast_id': 66,\n  'character': 'Op Center Staff',\n  'credit_id': '52fe48019251416c750acadf',\n  'gender': 2,\n  'id': 33305,\n  'name': 'Nathan Meister',\n  'order': 45},\n {'cast_id': 67,\n  'character': 'Op Center Staff',\n  'credit_id': '52fe48019251416c750acae3',\n  'gender': 0,\n  'id': 1207264,\n  'name': 'Gerry Blair',\n  'order': 46},\n {'cast_id': 68,\n  'character': 'Op Center Staff',\n  'credit_id': '52fe48019251416c750acae7',\n  'gender': 2,\n  'id': 33311,\n  'name': 'Matthew Chamberlain',\n  'order': 47},\n {'cast_id': 69,\n  'character': 'Op Center Staff',\n  'credit_id': '52fe48019251416c750acaeb',\n  'gender': 0,\n  'id': 1207265,\n  'name': 'Paul Yates',\n  'order': 48},\n {'cast_id': 70,\n  'character': 'Op Center Duty Officer',\n  'credit_id': '52fe48019251416c750acaef',\n  'gender': 0,\n  'id': 1207266,\n  'name': 'Wray Wilson',\n  'order': 49},\n {'cast_id': 71,\n  'character': 'Op Center Staff',\n  'credit_id': '52fe48019251416c750acaf3',\n  'gender': 2,\n  'id': 54492,\n  'name': 'James Gaylyn',\n  'order': 50},\n {'cast_id': 72,\n  'character': 'Dancer',\n  'credit_id': '52fe48019251416c750acaf7',\n  'gender': 0,\n  'id': 1207267,\n  'name': 'Melvin Leno Clark III',\n  'order': 51},\n {'cast_id': 73,\n  'character': 'Dancer',\n  'credit_id': '52fe48019251416c750acafb',\n  'gender': 0,\n  'id': 1207268,\n  'name': 'Carvon Futrell',\n  'order': 52},\n {'cast_id': 74,\n  'character': 'Dancer',\n  'credit_id': '52fe48019251416c750acaff',\n  'gender': 0,\n  'id': 1207269,\n  'name': 'Brandon Jelkes',\n  'order': 53},\n {'cast_id': 75,\n  'character': 'Dancer',\n  'credit_id': '52fe48019251416c750acb03',\n  'gender': 0,\n  'id': 1207270,\n  'name': 'Micah Moch',\n  'order': 54},\n {'cast_id': 76,\n  'character': 'Dancer',\n  'credit_id': '52fe48019251416c750acb07',\n  'gender': 0,\n  'id': 1207271,\n  'name': 'Hanniyah Muhammad',\n  'order': 55},\n {'cast_id': 77,\n  'character': 'Dancer',\n  'credit_id': '52fe48019251416c750acb0b',\n  'gender': 0,\n  'id': 1207272,\n  'name': 'Christopher Nolen',\n  'order': 56},\n {'cast_id': 78,\n  'character': 'Dancer',\n  'credit_id': '52fe48019251416c750acb0f',\n  'gender': 0,\n  'id': 1207273,\n  'name': 'Christa Oliver',\n  'order': 57},\n {'cast_id': 79,\n  'character': 'Dancer',\n  'credit_id': '52fe48019251416c750acb13',\n  'gender': 0,\n  'id': 1207274,\n  'name': 'April Marie Thomas',\n  'order': 58},\n {'cast_id': 80,\n  'character': 'Dancer',\n  'credit_id': '52fe48019251416c750acb17',\n  'gender': 0,\n  'id': 1207275,\n  'name': 'Bravita A. Threatt',\n  'order': 59},\n {'cast_id': 81,\n  'character': 'Mining Chief (uncredited)',\n  'credit_id': '52fe48019251416c750acb1b',\n  'gender': 0,\n  'id': 1207276,\n  'name': 'Colin Bleasdale',\n  'order': 60},\n {'cast_id': 82,\n  'character': 'Veteran Miner (uncredited)',\n  'credit_id': '52fe48019251416c750acb1f',\n  'gender': 0,\n  'id': 107969,\n  'name': 'Mike Bodnar',\n  'order': 61},\n {'cast_id': 83,\n  'character': 'Richard (uncredited)',\n  'credit_id': '52fe48019251416c750acb23',\n  'gender': 0,\n  'id': 1207278,\n  'name': 'Matt Clayton',\n  'order': 62},\n {'cast_id': 84,\n  'character': \"Nav'i (uncredited)\",\n  'credit_id': '52fe48019251416c750acb27',\n  'gender': 1,\n  'id': 147898,\n  'name': 'Nicole Dionne',\n  'order': 63},\n {'cast_id': 85,\n  'character': 'Trooper (uncredited)',\n  'credit_id': '52fe48019251416c750acb2b',\n  'gender': 0,\n  'id': 1207280,\n  'name': 'Jamie Harrison',\n  'order': 64},\n {'cast_id': 86,\n  'character': 'Trooper (uncredited)',\n  'credit_id': '52fe48019251416c750acb2f',\n  'gender': 0,\n  'id': 1207281,\n  'name': 'Allan Henry',\n  'order': 65},\n {'cast_id': 87,\n  'character': 'Ground Technician (uncredited)',\n  'credit_id': '52fe48019251416c750acb33',\n  'gender': 2,\n  'id': 1207282,\n  'name': 'Anthony Ingruber',\n  'order': 66},\n {'cast_id': 88,\n  'character': 'Flight Crew Mechanic (uncredited)',\n  'credit_id': '52fe48019251416c750acb37',\n  'gender': 0,\n  'id': 1207283,\n  'name': 'Ashley Jeffery',\n  'order': 67},\n {'cast_id': 14,\n  'character': 'Samson Pilot',\n  'credit_id': '52fe48009251416c750ac9f9',\n  'gender': 0,\n  'id': 98216,\n  'name': 'Dean Knowsley',\n  'order': 68},\n {'cast_id': 89,\n  'character': 'Trooper (uncredited)',\n  'credit_id': '52fe48019251416c750acb3b',\n  'gender': 0,\n  'id': 1201399,\n  'name': 'Joseph Mika-Hunt',\n  'order': 69},\n {'cast_id': 90,\n  'character': 'Banshee (uncredited)',\n  'credit_id': '52fe48019251416c750acb3f',\n  'gender': 0,\n  'id': 236696,\n  'name': 'Terry Notary',\n  'order': 70},\n {'cast_id': 91,\n  'character': 'Soldier (uncredited)',\n  'credit_id': '52fe48019251416c750acb43',\n  'gender': 0,\n  'id': 1207287,\n  'name': 'Kai Pantano',\n  'order': 71},\n {'cast_id': 92,\n  'character': 'Blast Technician (uncredited)',\n  'credit_id': '52fe48019251416c750acb47',\n  'gender': 0,\n  'id': 1207288,\n  'name': 'Logan Pithyou',\n  'order': 72},\n {'cast_id': 93,\n  'character': 'Vindum Raah (uncredited)',\n  'credit_id': '52fe48019251416c750acb4b',\n  'gender': 0,\n  'id': 1207289,\n  'name': 'Stuart Pollock',\n  'order': 73},\n {'cast_id': 94,\n  'character': 'Hero (uncredited)',\n  'credit_id': '52fe48019251416c750acb4f',\n  'gender': 0,\n  'id': 584868,\n  'name': 'Raja',\n  'order': 74},\n {'cast_id': 95,\n  'character': 'Ops Centreworker (uncredited)',\n  'credit_id': '52fe48019251416c750acb53',\n  'gender': 0,\n  'id': 1207290,\n  'name': 'Gareth Ruck',\n  'order': 75},\n {'cast_id': 96,\n  'character': 'Engineer (uncredited)',\n  'credit_id': '52fe48019251416c750acb57',\n  'gender': 0,\n  'id': 1062463,\n  'name': 'Rhian Sheehan',\n  'order': 76},\n {'cast_id': 97,\n  'character': \"Col. Quaritch's Mech Suit (uncredited)\",\n  'credit_id': '52fe48019251416c750acb5b',\n  'gender': 0,\n  'id': 60656,\n  'name': 'T. J. Storm',\n  'order': 77},\n {'cast_id': 98,\n  'character': 'Female Marine (uncredited)',\n  'credit_id': '52fe48019251416c750acb5f',\n  'gender': 0,\n  'id': 1207291,\n  'name': 'Jodie Taylor',\n  'order': 78},\n {'cast_id': 99,\n  'character': 'Ikran Clan Leader (uncredited)',\n  'credit_id': '52fe48019251416c750acb63',\n  'gender': 1,\n  'id': 1186027,\n  'name': 'Alicia Vela-Bailey',\n  'order': 79},\n {'cast_id': 100,\n  'character': 'Geologist (uncredited)',\n  'credit_id': '52fe48019251416c750acb67',\n  'gender': 0,\n  'id': 1207292,\n  'name': 'Richard Whiteside',\n  'order': 80},\n {'cast_id': 101,\n  'character': \"Na'vi (uncredited)\",\n  'credit_id': '52fe48019251416c750acb6b',\n  'gender': 0,\n  'id': 103259,\n  'name': 'Nikie Zambo',\n  'order': 81},\n {'cast_id': 102,\n  'character': 'Ambient Room Tech / Troupe',\n  'credit_id': '52fe48019251416c750acb6f',\n  'gender': 1,\n  'id': 42286,\n  'name': 'Julene Renee',\n  'order': 82}]"
     },
     "execution_count": 173,
     "metadata": {},
     "output_type": "execute_result"
    },
    {
     "data": {
      "text/plain": "[{'cast_id': 242,\n  'character': 'Jake Sully',\n  'credit_id': '5602a8a7c3a3685532001c9a',\n  'gender': 2,\n  'id': 65731,\n  'name': 'Sam Worthington',\n  'order': 0},\n {'cast_id': 3,\n  'character': 'Neytiri',\n  'credit_id': '52fe48009251416c750ac9cb',\n  'gender': 1,\n  'id': 8691,\n  'name': 'Zoe Saldana',\n  'order': 1},\n {'cast_id': 25,\n  'character': 'Dr. Grace Augustine',\n  'credit_id': '52fe48009251416c750aca39',\n  'gender': 1,\n  'id': 10205,\n  'name': 'Sigourney Weaver',\n  'order': 2},\n {'cast_id': 4,\n  'character': 'Col. Quaritch',\n  'credit_id': '52fe48009251416c750ac9cf',\n  'gender': 2,\n  'id': 32747,\n  'name': 'Stephen Lang',\n  'order': 3},\n {'cast_id': 5,\n  'character': 'Trudy Chacon',\n  'credit_id': '52fe48009251416c750ac9d3',\n  'gender': 1,\n  'id': 17647,\n  'name': 'Michelle Rodriguez',\n  'order': 4},\n {'cast_id': 8,\n  'character': 'Selfridge',\n  'credit_id': '52fe48009251416c750ac9e1',\n  'gender': 2,\n  'id': 1771,\n  'name': 'Giovanni Ribisi',\n  'order': 5},\n {'cast_id': 7,\n  'character': 'Norm Spellman',\n  'credit_id': '52fe48009251416c750ac9dd',\n  'gender': 2,\n  'id': 59231,\n  'name': 'Joel David Moore',\n  'order': 6},\n {'cast_id': 9,\n  'character': 'Moat',\n  'credit_id': '52fe48009251416c750ac9e5',\n  'gender': 1,\n  'id': 30485,\n  'name': 'CCH Pounder',\n  'order': 7},\n {'cast_id': 11,\n  'character': 'Eytukan',\n  'credit_id': '52fe48009251416c750ac9ed',\n  'gender': 2,\n  'id': 15853,\n  'name': 'Wes Studi',\n  'order': 8},\n {'cast_id': 10,\n  'character': \"Tsu'Tey\",\n  'credit_id': '52fe48009251416c750ac9e9',\n  'gender': 2,\n  'id': 10964,\n  'name': 'Laz Alonso',\n  'order': 9},\n {'cast_id': 12,\n  'character': 'Dr. Max Patel',\n  'credit_id': '52fe48009251416c750ac9f1',\n  'gender': 2,\n  'id': 95697,\n  'name': 'Dileep Rao',\n  'order': 10},\n {'cast_id': 13,\n  'character': 'Lyle Wainfleet',\n  'credit_id': '52fe48009251416c750ac9f5',\n  'gender': 2,\n  'id': 98215,\n  'name': 'Matt Gerald',\n  'order': 11},\n {'cast_id': 32,\n  'character': 'Private Fike',\n  'credit_id': '52fe48009251416c750aca5b',\n  'gender': 2,\n  'id': 154153,\n  'name': 'Sean Anthony Moran',\n  'order': 12},\n {'cast_id': 33,\n  'character': 'Cryo Vault Med Tech',\n  'credit_id': '52fe48009251416c750aca5f',\n  'gender': 2,\n  'id': 397312,\n  'name': 'Jason Whyte',\n  'order': 13},\n {'cast_id': 34,\n  'character': 'Venture Star Crew Chief',\n  'credit_id': '52fe48009251416c750aca63',\n  'gender': 2,\n  'id': 42317,\n  'name': 'Scott Lawrence',\n  'order': 14},\n {'cast_id': 35,\n  'character': 'Lock Up Trooper',\n  'credit_id': '52fe48009251416c750aca67',\n  'gender': 2,\n  'id': 986734,\n  'name': 'Kelly Kilgour',\n  'order': 15},\n {'cast_id': 36,\n  'character': 'Shuttle Pilot',\n  'credit_id': '52fe48009251416c750aca6b',\n  'gender': 0,\n  'id': 1207227,\n  'name': 'James Patrick Pitt',\n  'order': 16},\n {'cast_id': 37,\n  'character': 'Shuttle Co-Pilot',\n  'credit_id': '52fe48009251416c750aca6f',\n  'gender': 0,\n  'id': 1180936,\n  'name': 'Sean Patrick Murphy',\n  'order': 17},\n {'cast_id': 38,\n  'character': 'Shuttle Crew Chief',\n  'credit_id': '52fe48009251416c750aca73',\n  'gender': 2,\n  'id': 1019578,\n  'name': 'Peter Dillon',\n  'order': 18},\n {'cast_id': 39,\n  'character': 'Tractor Operator / Troupe',\n  'credit_id': '52fe48009251416c750aca77',\n  'gender': 0,\n  'id': 91443,\n  'name': 'Kevin Dorman',\n  'order': 19},\n {'cast_id': 40,\n  'character': 'Dragon Gunship Pilot',\n  'credit_id': '52fe48009251416c750aca7b',\n  'gender': 2,\n  'id': 173391,\n  'name': 'Kelson Henderson',\n  'order': 20},\n {'cast_id': 41,\n  'character': 'Dragon Gunship Gunner',\n  'credit_id': '52fe48009251416c750aca7f',\n  'gender': 0,\n  'id': 1207236,\n  'name': 'David Van Horn',\n  'order': 21},\n {'cast_id': 42,\n  'character': 'Dragon Gunship Navigator',\n  'credit_id': '52fe48009251416c750aca83',\n  'gender': 0,\n  'id': 215913,\n  'name': 'Jacob Tomuri',\n  'order': 22},\n {'cast_id': 43,\n  'character': 'Suit #1',\n  'credit_id': '52fe48009251416c750aca87',\n  'gender': 0,\n  'id': 143206,\n  'name': 'Michael Blain-Rozgay',\n  'order': 23},\n {'cast_id': 44,\n  'character': 'Suit #2',\n  'credit_id': '52fe48009251416c750aca8b',\n  'gender': 2,\n  'id': 169676,\n  'name': 'Jon Curry',\n  'order': 24},\n {'cast_id': 46,\n  'character': 'Ambient Room Tech',\n  'credit_id': '52fe48009251416c750aca8f',\n  'gender': 0,\n  'id': 1048610,\n  'name': 'Luke Hawker',\n  'order': 25},\n {'cast_id': 47,\n  'character': 'Ambient Room Tech / Troupe',\n  'credit_id': '52fe48009251416c750aca93',\n  'gender': 0,\n  'id': 42288,\n  'name': 'Woody Schultz',\n  'order': 26},\n {'cast_id': 48,\n  'character': 'Horse Clan Leader',\n  'credit_id': '52fe48009251416c750aca97',\n  'gender': 2,\n  'id': 68278,\n  'name': 'Peter Mensah',\n  'order': 27},\n {'cast_id': 49,\n  'character': 'Link Room Tech',\n  'credit_id': '52fe48009251416c750aca9b',\n  'gender': 0,\n  'id': 1207247,\n  'name': 'Sonia Yee',\n  'order': 28},\n {'cast_id': 50,\n  'character': 'Basketball Avatar / Troupe',\n  'credit_id': '52fe48009251416c750aca9f',\n  'gender': 1,\n  'id': 1207248,\n  'name': 'Jahnel Curfman',\n  'order': 29},\n {'cast_id': 51,\n  'character': 'Basketball Avatar',\n  'credit_id': '52fe48009251416c750acaa3',\n  'gender': 0,\n  'id': 89714,\n  'name': 'Ilram Choi',\n  'order': 30},\n {'cast_id': 52,\n  'character': \"Na'vi Child\",\n  'credit_id': '52fe48009251416c750acaa7',\n  'gender': 0,\n  'id': 1207249,\n  'name': 'Kyla Warren',\n  'order': 31},\n {'cast_id': 53,\n  'character': 'Troupe',\n  'credit_id': '52fe48009251416c750acaab',\n  'gender': 0,\n  'id': 1207250,\n  'name': 'Lisa Roumain',\n  'order': 32},\n {'cast_id': 54,\n  'character': 'Troupe',\n  'credit_id': '52fe48009251416c750acaaf',\n  'gender': 1,\n  'id': 83105,\n  'name': 'Debra Wilson',\n  'order': 33},\n {'cast_id': 57,\n  'character': 'Troupe',\n  'credit_id': '52fe48009251416c750acabb',\n  'gender': 0,\n  'id': 1207253,\n  'name': 'Chris Mala',\n  'order': 34},\n {'cast_id': 55,\n  'character': 'Troupe',\n  'credit_id': '52fe48009251416c750acab3',\n  'gender': 0,\n  'id': 1207251,\n  'name': 'Taylor Kibby',\n  'order': 35},\n {'cast_id': 56,\n  'character': 'Troupe',\n  'credit_id': '52fe48009251416c750acab7',\n  'gender': 0,\n  'id': 1207252,\n  'name': 'Jodie Landau',\n  'order': 36},\n {'cast_id': 58,\n  'character': 'Troupe',\n  'credit_id': '52fe48009251416c750acabf',\n  'gender': 0,\n  'id': 1207254,\n  'name': 'Julie Lamm',\n  'order': 37},\n {'cast_id': 59,\n  'character': 'Troupe',\n  'credit_id': '52fe48009251416c750acac3',\n  'gender': 0,\n  'id': 1207257,\n  'name': 'Cullen B. Madden',\n  'order': 38},\n {'cast_id': 60,\n  'character': 'Troupe',\n  'credit_id': '52fe48009251416c750acac7',\n  'gender': 0,\n  'id': 1207259,\n  'name': 'Joseph Brady Madden',\n  'order': 39},\n {'cast_id': 61,\n  'character': 'Troupe',\n  'credit_id': '52fe48009251416c750acacb',\n  'gender': 0,\n  'id': 1207262,\n  'name': 'Frankie Torres',\n  'order': 40},\n {'cast_id': 62,\n  'character': 'Troupe',\n  'credit_id': '52fe48009251416c750acacf',\n  'gender': 1,\n  'id': 1158600,\n  'name': 'Austin Wilson',\n  'order': 41},\n {'cast_id': 63,\n  'character': 'Troupe',\n  'credit_id': '52fe48019251416c750acad3',\n  'gender': 1,\n  'id': 983705,\n  'name': 'Sara Wilson',\n  'order': 42},\n {'cast_id': 64,\n  'character': 'Troupe',\n  'credit_id': '52fe48019251416c750acad7',\n  'gender': 0,\n  'id': 1207263,\n  'name': 'Tamica Washington-Miller',\n  'order': 43},\n {'cast_id': 65,\n  'character': 'Op Center Staff',\n  'credit_id': '52fe48019251416c750acadb',\n  'gender': 1,\n  'id': 1145098,\n  'name': 'Lucy Briant',\n  'order': 44},\n {'cast_id': 66,\n  'character': 'Op Center Staff',\n  'credit_id': '52fe48019251416c750acadf',\n  'gender': 2,\n  'id': 33305,\n  'name': 'Nathan Meister',\n  'order': 45},\n {'cast_id': 67,\n  'character': 'Op Center Staff',\n  'credit_id': '52fe48019251416c750acae3',\n  'gender': 0,\n  'id': 1207264,\n  'name': 'Gerry Blair',\n  'order': 46},\n {'cast_id': 68,\n  'character': 'Op Center Staff',\n  'credit_id': '52fe48019251416c750acae7',\n  'gender': 2,\n  'id': 33311,\n  'name': 'Matthew Chamberlain',\n  'order': 47},\n {'cast_id': 69,\n  'character': 'Op Center Staff',\n  'credit_id': '52fe48019251416c750acaeb',\n  'gender': 0,\n  'id': 1207265,\n  'name': 'Paul Yates',\n  'order': 48},\n {'cast_id': 70,\n  'character': 'Op Center Duty Officer',\n  'credit_id': '52fe48019251416c750acaef',\n  'gender': 0,\n  'id': 1207266,\n  'name': 'Wray Wilson',\n  'order': 49},\n {'cast_id': 71,\n  'character': 'Op Center Staff',\n  'credit_id': '52fe48019251416c750acaf3',\n  'gender': 2,\n  'id': 54492,\n  'name': 'James Gaylyn',\n  'order': 50},\n {'cast_id': 72,\n  'character': 'Dancer',\n  'credit_id': '52fe48019251416c750acaf7',\n  'gender': 0,\n  'id': 1207267,\n  'name': 'Melvin Leno Clark III',\n  'order': 51},\n {'cast_id': 73,\n  'character': 'Dancer',\n  'credit_id': '52fe48019251416c750acafb',\n  'gender': 0,\n  'id': 1207268,\n  'name': 'Carvon Futrell',\n  'order': 52},\n {'cast_id': 74,\n  'character': 'Dancer',\n  'credit_id': '52fe48019251416c750acaff',\n  'gender': 0,\n  'id': 1207269,\n  'name': 'Brandon Jelkes',\n  'order': 53},\n {'cast_id': 75,\n  'character': 'Dancer',\n  'credit_id': '52fe48019251416c750acb03',\n  'gender': 0,\n  'id': 1207270,\n  'name': 'Micah Moch',\n  'order': 54},\n {'cast_id': 76,\n  'character': 'Dancer',\n  'credit_id': '52fe48019251416c750acb07',\n  'gender': 0,\n  'id': 1207271,\n  'name': 'Hanniyah Muhammad',\n  'order': 55},\n {'cast_id': 77,\n  'character': 'Dancer',\n  'credit_id': '52fe48019251416c750acb0b',\n  'gender': 0,\n  'id': 1207272,\n  'name': 'Christopher Nolen',\n  'order': 56},\n {'cast_id': 78,\n  'character': 'Dancer',\n  'credit_id': '52fe48019251416c750acb0f',\n  'gender': 0,\n  'id': 1207273,\n  'name': 'Christa Oliver',\n  'order': 57},\n {'cast_id': 79,\n  'character': 'Dancer',\n  'credit_id': '52fe48019251416c750acb13',\n  'gender': 0,\n  'id': 1207274,\n  'name': 'April Marie Thomas',\n  'order': 58},\n {'cast_id': 80,\n  'character': 'Dancer',\n  'credit_id': '52fe48019251416c750acb17',\n  'gender': 0,\n  'id': 1207275,\n  'name': 'Bravita A. Threatt',\n  'order': 59},\n {'cast_id': 81,\n  'character': 'Mining Chief (uncredited)',\n  'credit_id': '52fe48019251416c750acb1b',\n  'gender': 0,\n  'id': 1207276,\n  'name': 'Colin Bleasdale',\n  'order': 60},\n {'cast_id': 82,\n  'character': 'Veteran Miner (uncredited)',\n  'credit_id': '52fe48019251416c750acb1f',\n  'gender': 0,\n  'id': 107969,\n  'name': 'Mike Bodnar',\n  'order': 61},\n {'cast_id': 83,\n  'character': 'Richard (uncredited)',\n  'credit_id': '52fe48019251416c750acb23',\n  'gender': 0,\n  'id': 1207278,\n  'name': 'Matt Clayton',\n  'order': 62},\n {'cast_id': 84,\n  'character': \"Nav'i (uncredited)\",\n  'credit_id': '52fe48019251416c750acb27',\n  'gender': 1,\n  'id': 147898,\n  'name': 'Nicole Dionne',\n  'order': 63},\n {'cast_id': 85,\n  'character': 'Trooper (uncredited)',\n  'credit_id': '52fe48019251416c750acb2b',\n  'gender': 0,\n  'id': 1207280,\n  'name': 'Jamie Harrison',\n  'order': 64},\n {'cast_id': 86,\n  'character': 'Trooper (uncredited)',\n  'credit_id': '52fe48019251416c750acb2f',\n  'gender': 0,\n  'id': 1207281,\n  'name': 'Allan Henry',\n  'order': 65},\n {'cast_id': 87,\n  'character': 'Ground Technician (uncredited)',\n  'credit_id': '52fe48019251416c750acb33',\n  'gender': 2,\n  'id': 1207282,\n  'name': 'Anthony Ingruber',\n  'order': 66},\n {'cast_id': 88,\n  'character': 'Flight Crew Mechanic (uncredited)',\n  'credit_id': '52fe48019251416c750acb37',\n  'gender': 0,\n  'id': 1207283,\n  'name': 'Ashley Jeffery',\n  'order': 67},\n {'cast_id': 14,\n  'character': 'Samson Pilot',\n  'credit_id': '52fe48009251416c750ac9f9',\n  'gender': 0,\n  'id': 98216,\n  'name': 'Dean Knowsley',\n  'order': 68},\n {'cast_id': 89,\n  'character': 'Trooper (uncredited)',\n  'credit_id': '52fe48019251416c750acb3b',\n  'gender': 0,\n  'id': 1201399,\n  'name': 'Joseph Mika-Hunt',\n  'order': 69},\n {'cast_id': 90,\n  'character': 'Banshee (uncredited)',\n  'credit_id': '52fe48019251416c750acb3f',\n  'gender': 0,\n  'id': 236696,\n  'name': 'Terry Notary',\n  'order': 70},\n {'cast_id': 91,\n  'character': 'Soldier (uncredited)',\n  'credit_id': '52fe48019251416c750acb43',\n  'gender': 0,\n  'id': 1207287,\n  'name': 'Kai Pantano',\n  'order': 71},\n {'cast_id': 92,\n  'character': 'Blast Technician (uncredited)',\n  'credit_id': '52fe48019251416c750acb47',\n  'gender': 0,\n  'id': 1207288,\n  'name': 'Logan Pithyou',\n  'order': 72},\n {'cast_id': 93,\n  'character': 'Vindum Raah (uncredited)',\n  'credit_id': '52fe48019251416c750acb4b',\n  'gender': 0,\n  'id': 1207289,\n  'name': 'Stuart Pollock',\n  'order': 73},\n {'cast_id': 94,\n  'character': 'Hero (uncredited)',\n  'credit_id': '52fe48019251416c750acb4f',\n  'gender': 0,\n  'id': 584868,\n  'name': 'Raja',\n  'order': 74},\n {'cast_id': 95,\n  'character': 'Ops Centreworker (uncredited)',\n  'credit_id': '52fe48019251416c750acb53',\n  'gender': 0,\n  'id': 1207290,\n  'name': 'Gareth Ruck',\n  'order': 75},\n {'cast_id': 96,\n  'character': 'Engineer (uncredited)',\n  'credit_id': '52fe48019251416c750acb57',\n  'gender': 0,\n  'id': 1062463,\n  'name': 'Rhian Sheehan',\n  'order': 76},\n {'cast_id': 97,\n  'character': \"Col. Quaritch's Mech Suit (uncredited)\",\n  'credit_id': '52fe48019251416c750acb5b',\n  'gender': 0,\n  'id': 60656,\n  'name': 'T. J. Storm',\n  'order': 77},\n {'cast_id': 98,\n  'character': 'Female Marine (uncredited)',\n  'credit_id': '52fe48019251416c750acb5f',\n  'gender': 0,\n  'id': 1207291,\n  'name': 'Jodie Taylor',\n  'order': 78},\n {'cast_id': 99,\n  'character': 'Ikran Clan Leader (uncredited)',\n  'credit_id': '52fe48019251416c750acb63',\n  'gender': 1,\n  'id': 1186027,\n  'name': 'Alicia Vela-Bailey',\n  'order': 79},\n {'cast_id': 100,\n  'character': 'Geologist (uncredited)',\n  'credit_id': '52fe48019251416c750acb67',\n  'gender': 0,\n  'id': 1207292,\n  'name': 'Richard Whiteside',\n  'order': 80},\n {'cast_id': 101,\n  'character': \"Na'vi (uncredited)\",\n  'credit_id': '52fe48019251416c750acb6b',\n  'gender': 0,\n  'id': 103259,\n  'name': 'Nikie Zambo',\n  'order': 81},\n {'cast_id': 102,\n  'character': 'Ambient Room Tech / Troupe',\n  'credit_id': '52fe48019251416c750acb6f',\n  'gender': 1,\n  'id': 42286,\n  'name': 'Julene Renee',\n  'order': 82}]"
     },
     "execution_count": 208,
     "metadata": {},
     "output_type": "execute_result"
    }
   ],
   "source": [
    "movies_df['cast'][0]"
   ],
   "metadata": {
    "collapsed": false
   }
  },
  {
   "cell_type": "code",
   "execution_count": 209,
   "outputs": [],
   "source": [
    "# Get the director's name from the crew feature. If director is not listed, return NaN\n",
    "def get_director(x):\n",
    "    for i in x:\n",
    "        if i['job'] == 'Director':\n",
    "            return i['name']\n",
    "    return np.nan"
   ],
   "metadata": {
    "collapsed": false
   }
  },
  {
   "cell_type": "code",
   "execution_count": 210,
   "outputs": [],
   "source": [
    "# Returns the list top 3 elements or entire list; whichever is more.\n",
    "def get_list(x):\n",
    "    if isinstance(x, list):\n",
    "        names = [i['name'] for i in x]\n",
    "        #Check if more than 3 elements exist. If yes, return only first three. If no, return entire list.\n",
    "        if len(names) > 6:\n",
    "            names = names[:6]\n",
    "        return names\n",
    "\n",
    "    #Return empty list in case of missing/malformed data\n",
    "    return []"
   ],
   "metadata": {
    "collapsed": false
   }
  },
  {
   "cell_type": "code",
   "execution_count": 211,
   "outputs": [],
   "source": [
    "# Define new director, cast, genres and keywords features that are in a suitable form.\n",
    "movies_df['director'] = movies_df['crew'].apply(get_director)\n",
    "\n",
    "features = ['cast', 'keywords', 'genres']\n",
    "for feature in features:\n",
    "    movies_df[feature] = movies_df[feature].apply(get_list)"
   ],
   "metadata": {
    "collapsed": false
   }
  },
  {
   "cell_type": "code",
   "execution_count": 224,
   "outputs": [
    {
     "data": {
      "text/plain": "                                      title  \\\n0                                    Avatar   \n1  Pirates of the Caribbean: At World's End   \n2                                   Spectre   \n\n                                                cast       director  \\\n0  [samworthington, zoesaldana, sigourneyweaver, ...   jamescameron   \n1  [johnnydepp, orlandobloom, keiraknightley, ste...  goreverbinski   \n2  [danielcraig, christophwaltz, léaseydoux, ralp...      sammendes   \n\n                                            keywords  \\\n0  [cultureclash, future, spacewar, spacecolony, ...   \n1  [ocean, drugabuse, exoticisland, eastindiatrad...   \n2  [spy, basedonnovel, secretagent, sequel, mi6, ...   \n\n                                         genres original_language  \n0  [action, adventure, fantasy, sciencefiction]                en  \n1                  [adventure, fantasy, action]                en  \n2                    [action, adventure, crime]                en  ",
      "text/html": "<div>\n<style scoped>\n    .dataframe tbody tr th:only-of-type {\n        vertical-align: middle;\n    }\n\n    .dataframe tbody tr th {\n        vertical-align: top;\n    }\n\n    .dataframe thead th {\n        text-align: right;\n    }\n</style>\n<table border=\"1\" class=\"dataframe\">\n  <thead>\n    <tr style=\"text-align: right;\">\n      <th></th>\n      <th>title</th>\n      <th>cast</th>\n      <th>director</th>\n      <th>keywords</th>\n      <th>genres</th>\n      <th>original_language</th>\n    </tr>\n  </thead>\n  <tbody>\n    <tr>\n      <th>0</th>\n      <td>Avatar</td>\n      <td>[samworthington, zoesaldana, sigourneyweaver, ...</td>\n      <td>jamescameron</td>\n      <td>[cultureclash, future, spacewar, spacecolony, ...</td>\n      <td>[action, adventure, fantasy, sciencefiction]</td>\n      <td>en</td>\n    </tr>\n    <tr>\n      <th>1</th>\n      <td>Pirates of the Caribbean: At World's End</td>\n      <td>[johnnydepp, orlandobloom, keiraknightley, ste...</td>\n      <td>goreverbinski</td>\n      <td>[ocean, drugabuse, exoticisland, eastindiatrad...</td>\n      <td>[adventure, fantasy, action]</td>\n      <td>en</td>\n    </tr>\n    <tr>\n      <th>2</th>\n      <td>Spectre</td>\n      <td>[danielcraig, christophwaltz, léaseydoux, ralp...</td>\n      <td>sammendes</td>\n      <td>[spy, basedonnovel, secretagent, sequel, mi6, ...</td>\n      <td>[action, adventure, crime]</td>\n      <td>en</td>\n    </tr>\n  </tbody>\n</table>\n</div>"
     },
     "execution_count": 224,
     "metadata": {},
     "output_type": "execute_result"
    }
   ],
   "source": [
    "movies_df[['title', 'cast', 'director', 'keywords', 'genres',\n",
    "           'original_language']].head(3)"
   ],
   "metadata": {
    "collapsed": false
   }
  },
  {
   "cell_type": "code",
   "execution_count": 225,
   "outputs": [
    {
     "data": {
      "text/plain": "['samworthington',\n 'zoesaldana',\n 'sigourneyweaver',\n 'stephenlang',\n 'michellerodriguez',\n 'giovanniribisi']"
     },
     "execution_count": 225,
     "metadata": {},
     "output_type": "execute_result"
    }
   ],
   "source": [
    "movies_df['cast'][0]"
   ],
   "metadata": {
    "collapsed": false
   }
  },
  {
   "cell_type": "code",
   "execution_count": 226,
   "outputs": [],
   "source": [
    "# Function to convert all strings to lower case and strip names of spaces\n",
    "def clean_data(x):\n",
    "    if isinstance(x, list):\n",
    "        return [str.lower(i.replace(\" \", \"\")) for i in x]\n",
    "    else:\n",
    "        #Check if director exists. If not, return empty string\n",
    "        if isinstance(x, str):\n",
    "            return str.lower(x.replace(\" \", \"\"))\n",
    "        else:\n",
    "            return ''"
   ],
   "metadata": {
    "collapsed": false
   }
  },
  {
   "cell_type": "code",
   "execution_count": 228,
   "outputs": [],
   "source": [
    "# Apply clean_data function to your features.\n",
    "features = ['cast', 'keywords', 'director', 'genres']\n",
    "\n",
    "for feature in features:\n",
    "    movies_df[feature] = movies_df[feature].apply(clean_data)"
   ],
   "metadata": {
    "collapsed": false
   }
  },
  {
   "cell_type": "code",
   "execution_count": 229,
   "outputs": [
    {
     "data": {
      "text/plain": "         budget                                        genres  \\\n0     237000000  [action, adventure, fantasy, sciencefiction]   \n1     300000000                  [adventure, fantasy, action]   \n2     245000000                    [action, adventure, crime]   \n3     250000000              [action, crime, drama, thriller]   \n4     260000000           [action, adventure, sciencefiction]   \n...         ...                                           ...   \n4798     220000                     [action, crime, thriller]   \n4799       9000                             [comedy, romance]   \n4800          0             [comedy, drama, romance, tvmovie]   \n4801          0                                            []   \n4802          0                                 [documentary]   \n\n                                               homepage      id  \\\n0                           http://www.avatarmovie.com/   19995   \n1          http://disney.go.com/disneypictures/pirates/     285   \n2           http://www.sonypictures.com/movies/spectre/  206647   \n3                    http://www.thedarkknightrises.com/   49026   \n4                  http://movies.disney.com/john-carter   49529   \n...                                                 ...     ...   \n4798                                                NaN    9367   \n4799                                                NaN   72766   \n4800  http://www.hallmarkchannel.com/signedsealeddel...  231617   \n4801                        http://shanghaicalling.com/  126186   \n4802                                                NaN   25975   \n\n                                               keywords original_language  \\\n0     [cultureclash, future, spacewar, spacecolony, ...                en   \n1     [ocean, drugabuse, exoticisland, eastindiatrad...                en   \n2     [spy, basedonnovel, secretagent, sequel, mi6, ...                en   \n3     [dccomics, crimefighter, terrorist, secretiden...                en   \n4     [basedonnovel, mars, medallion, spacetravel, p...                en   \n...                                                 ...               ...   \n4798  [unitedstates–mexicobarrier, legs, arms, paper...                es   \n4799                                                 []                en   \n4800  [date, loveatfirstsight, narration, investigat...                en   \n4801                                                 []                en   \n4802           [obsession, camcorder, crush, dreamgirl]                en   \n\n                                original_title  \\\n0                                       Avatar   \n1     Pirates of the Caribbean: At World's End   \n2                                      Spectre   \n3                        The Dark Knight Rises   \n4                                  John Carter   \n...                                        ...   \n4798                               El Mariachi   \n4799                                 Newlyweds   \n4800                 Signed, Sealed, Delivered   \n4801                          Shanghai Calling   \n4802                         My Date with Drew   \n\n                                               overview  popularity  \\\n0     In the 22nd century, a paraplegic Marine is di...  150.437577   \n1     Captain Barbossa, long believed to be dead, ha...  139.082615   \n2     A cryptic message from Bond’s past sends him o...  107.376788   \n3     Following the death of District Attorney Harve...  112.312950   \n4     John Carter is a war-weary, former military ca...   43.926995   \n...                                                 ...         ...   \n4798  El Mariachi just wants to play his guitar and ...   14.269792   \n4799  A newlywed couple's honeymoon is upended by th...    0.642552   \n4800  \"Signed, Sealed, Delivered\" introduces a dedic...    1.444476   \n4801  When ambitious New York attorney Sam is sent t...    0.857008   \n4802  Ever since the second grade when he first saw ...    1.929883   \n\n                                   production_companies  ...  \\\n0     [{\"name\": \"Ingenious Film Partners\", \"id\": 289...  ...   \n1     [{\"name\": \"Walt Disney Pictures\", \"id\": 2}, {\"...  ...   \n2     [{\"name\": \"Columbia Pictures\", \"id\": 5}, {\"nam...  ...   \n3     [{\"name\": \"Legendary Pictures\", \"id\": 923}, {\"...  ...   \n4           [{\"name\": \"Walt Disney Pictures\", \"id\": 2}]  ...   \n...                                                 ...  ...   \n4798           [{\"name\": \"Columbia Pictures\", \"id\": 5}]  ...   \n4799                                                 []  ...   \n4800  [{\"name\": \"Front Street Pictures\", \"id\": 3958}...  ...   \n4801                                                 []  ...   \n4802  [{\"name\": \"rusty bear entertainment\", \"id\": 87...  ...   \n\n                                       spoken_languages    status  \\\n0     [{\"iso_639_1\": \"en\", \"name\": \"English\"}, {\"iso...  Released   \n1              [{\"iso_639_1\": \"en\", \"name\": \"English\"}]  Released   \n2     [{\"iso_639_1\": \"fr\", \"name\": \"Fran\\u00e7ais\"},...  Released   \n3              [{\"iso_639_1\": \"en\", \"name\": \"English\"}]  Released   \n4              [{\"iso_639_1\": \"en\", \"name\": \"English\"}]  Released   \n...                                                 ...       ...   \n4798      [{\"iso_639_1\": \"es\", \"name\": \"Espa\\u00f1ol\"}]  Released   \n4799                                                 []  Released   \n4800           [{\"iso_639_1\": \"en\", \"name\": \"English\"}]  Released   \n4801           [{\"iso_639_1\": \"en\", \"name\": \"English\"}]  Released   \n4802           [{\"iso_639_1\": \"en\", \"name\": \"English\"}]  Released   \n\n                                                tagline  \\\n0                           Enter the World of Pandora.   \n1        At the end of the world, the adventure begins.   \n2                                 A Plan No One Escapes   \n3                                       The Legend Ends   \n4                  Lost in our world, found in another.   \n...                                                 ...   \n4798  He didn't come looking for trouble, but troubl...   \n4799  A newlywed couple's honeymoon is upended by th...   \n4800                                                NaN   \n4801                           A New Yorker in Shanghai   \n4802                                                NaN   \n\n                                         title vote_average vote_count  \\\n0                                       Avatar          7.2      11800   \n1     Pirates of the Caribbean: At World's End          6.9       4500   \n2                                      Spectre          6.3       4466   \n3                        The Dark Knight Rises          7.6       9106   \n4                                  John Carter          6.1       2124   \n...                                        ...          ...        ...   \n4798                               El Mariachi          6.6        238   \n4799                                 Newlyweds          5.9          5   \n4800                 Signed, Sealed, Delivered          7.0          6   \n4801                          Shanghai Calling          5.7          7   \n4802                         My Date with Drew          6.3         16   \n\n                                                   cast  \\\n0     [samworthington, zoesaldana, sigourneyweaver, ...   \n1     [johnnydepp, orlandobloom, keiraknightley, ste...   \n2     [danielcraig, christophwaltz, léaseydoux, ralp...   \n3     [christianbale, michaelcaine, garyoldman, anne...   \n4     [taylorkitsch, lynncollins, samanthamorton, wi...   \n...                                                 ...   \n4798  [carlosgallardo, jaimedehoyos, petermarquardt,...   \n4799  [edwardburns, kerrybishé, marshadietlein, cait...   \n4800  [ericmabius, kristinbooth, crystallowe, geoffg...   \n4801  [danielhenney, elizacoupe, billpaxton, alanruc...   \n4802  [drewbarrymore, brianherzlinger, coreyfeldman,...   \n\n                                                   crew          director  \\\n0     [{'credit_id': '52fe48009251416c750aca23', 'de...      jamescameron   \n1     [{'credit_id': '52fe4232c3a36847f800b579', 'de...     goreverbinski   \n2     [{'credit_id': '54805967c3a36829b5002c41', 'de...         sammendes   \n3     [{'credit_id': '52fe4781c3a36847f81398c3', 'de...  christophernolan   \n4     [{'credit_id': '52fe479ac3a36847f813eaa3', 'de...     andrewstanton   \n...                                                 ...               ...   \n4798  [{'credit_id': '52fe44eec3a36847f80b280b', 'de...   robertrodriguez   \n4799  [{'credit_id': '52fe487dc3a368484e0fb013', 'de...       edwardburns   \n4800  [{'credit_id': '52fe4df3c3a36847f8275ecf', 'de...        scottsmith   \n4801  [{'credit_id': '52fe4ad9c3a368484e16a36b', 'de...        danielhsia   \n4802  [{'credit_id': '58ce021b9251415a390165d9', 'de...   brianherzlinger   \n\n                                                   soup  \n0     cultureclash future spacewar spacecolony socie...  \n1     ocean drugabuse exoticisland eastindiatradingc...  \n2     spy basedonnovel secretagent sequel mi6 britis...  \n3     dccomics crimefighter terrorist secretidentity...  \n4     basedonnovel mars medallion spacetravel prince...  \n...                                                 ...  \n4798  unitedstates–mexicobarrier legs arms paperknif...  \n4799   edwardburns kerrybishé marshadietlein caitlin...  \n4800  date loveatfirstsight narration investigation ...  \n4801   danielhenney elizacoupe billpaxton alanruck z...  \n4802  obsession camcorder crush dreamgirl drewbarrym...  \n\n[4803 rows x 24 columns]",
      "text/html": "<div>\n<style scoped>\n    .dataframe tbody tr th:only-of-type {\n        vertical-align: middle;\n    }\n\n    .dataframe tbody tr th {\n        vertical-align: top;\n    }\n\n    .dataframe thead th {\n        text-align: right;\n    }\n</style>\n<table border=\"1\" class=\"dataframe\">\n  <thead>\n    <tr style=\"text-align: right;\">\n      <th></th>\n      <th>budget</th>\n      <th>genres</th>\n      <th>homepage</th>\n      <th>id</th>\n      <th>keywords</th>\n      <th>original_language</th>\n      <th>original_title</th>\n      <th>overview</th>\n      <th>popularity</th>\n      <th>production_companies</th>\n      <th>...</th>\n      <th>spoken_languages</th>\n      <th>status</th>\n      <th>tagline</th>\n      <th>title</th>\n      <th>vote_average</th>\n      <th>vote_count</th>\n      <th>cast</th>\n      <th>crew</th>\n      <th>director</th>\n      <th>soup</th>\n    </tr>\n  </thead>\n  <tbody>\n    <tr>\n      <th>0</th>\n      <td>237000000</td>\n      <td>[action, adventure, fantasy, sciencefiction]</td>\n      <td>http://www.avatarmovie.com/</td>\n      <td>19995</td>\n      <td>[cultureclash, future, spacewar, spacecolony, ...</td>\n      <td>en</td>\n      <td>Avatar</td>\n      <td>In the 22nd century, a paraplegic Marine is di...</td>\n      <td>150.437577</td>\n      <td>[{\"name\": \"Ingenious Film Partners\", \"id\": 289...</td>\n      <td>...</td>\n      <td>[{\"iso_639_1\": \"en\", \"name\": \"English\"}, {\"iso...</td>\n      <td>Released</td>\n      <td>Enter the World of Pandora.</td>\n      <td>Avatar</td>\n      <td>7.2</td>\n      <td>11800</td>\n      <td>[samworthington, zoesaldana, sigourneyweaver, ...</td>\n      <td>[{'credit_id': '52fe48009251416c750aca23', 'de...</td>\n      <td>jamescameron</td>\n      <td>cultureclash future spacewar spacecolony socie...</td>\n    </tr>\n    <tr>\n      <th>1</th>\n      <td>300000000</td>\n      <td>[adventure, fantasy, action]</td>\n      <td>http://disney.go.com/disneypictures/pirates/</td>\n      <td>285</td>\n      <td>[ocean, drugabuse, exoticisland, eastindiatrad...</td>\n      <td>en</td>\n      <td>Pirates of the Caribbean: At World's End</td>\n      <td>Captain Barbossa, long believed to be dead, ha...</td>\n      <td>139.082615</td>\n      <td>[{\"name\": \"Walt Disney Pictures\", \"id\": 2}, {\"...</td>\n      <td>...</td>\n      <td>[{\"iso_639_1\": \"en\", \"name\": \"English\"}]</td>\n      <td>Released</td>\n      <td>At the end of the world, the adventure begins.</td>\n      <td>Pirates of the Caribbean: At World's End</td>\n      <td>6.9</td>\n      <td>4500</td>\n      <td>[johnnydepp, orlandobloom, keiraknightley, ste...</td>\n      <td>[{'credit_id': '52fe4232c3a36847f800b579', 'de...</td>\n      <td>goreverbinski</td>\n      <td>ocean drugabuse exoticisland eastindiatradingc...</td>\n    </tr>\n    <tr>\n      <th>2</th>\n      <td>245000000</td>\n      <td>[action, adventure, crime]</td>\n      <td>http://www.sonypictures.com/movies/spectre/</td>\n      <td>206647</td>\n      <td>[spy, basedonnovel, secretagent, sequel, mi6, ...</td>\n      <td>en</td>\n      <td>Spectre</td>\n      <td>A cryptic message from Bond’s past sends him o...</td>\n      <td>107.376788</td>\n      <td>[{\"name\": \"Columbia Pictures\", \"id\": 5}, {\"nam...</td>\n      <td>...</td>\n      <td>[{\"iso_639_1\": \"fr\", \"name\": \"Fran\\u00e7ais\"},...</td>\n      <td>Released</td>\n      <td>A Plan No One Escapes</td>\n      <td>Spectre</td>\n      <td>6.3</td>\n      <td>4466</td>\n      <td>[danielcraig, christophwaltz, léaseydoux, ralp...</td>\n      <td>[{'credit_id': '54805967c3a36829b5002c41', 'de...</td>\n      <td>sammendes</td>\n      <td>spy basedonnovel secretagent sequel mi6 britis...</td>\n    </tr>\n    <tr>\n      <th>3</th>\n      <td>250000000</td>\n      <td>[action, crime, drama, thriller]</td>\n      <td>http://www.thedarkknightrises.com/</td>\n      <td>49026</td>\n      <td>[dccomics, crimefighter, terrorist, secretiden...</td>\n      <td>en</td>\n      <td>The Dark Knight Rises</td>\n      <td>Following the death of District Attorney Harve...</td>\n      <td>112.312950</td>\n      <td>[{\"name\": \"Legendary Pictures\", \"id\": 923}, {\"...</td>\n      <td>...</td>\n      <td>[{\"iso_639_1\": \"en\", \"name\": \"English\"}]</td>\n      <td>Released</td>\n      <td>The Legend Ends</td>\n      <td>The Dark Knight Rises</td>\n      <td>7.6</td>\n      <td>9106</td>\n      <td>[christianbale, michaelcaine, garyoldman, anne...</td>\n      <td>[{'credit_id': '52fe4781c3a36847f81398c3', 'de...</td>\n      <td>christophernolan</td>\n      <td>dccomics crimefighter terrorist secretidentity...</td>\n    </tr>\n    <tr>\n      <th>4</th>\n      <td>260000000</td>\n      <td>[action, adventure, sciencefiction]</td>\n      <td>http://movies.disney.com/john-carter</td>\n      <td>49529</td>\n      <td>[basedonnovel, mars, medallion, spacetravel, p...</td>\n      <td>en</td>\n      <td>John Carter</td>\n      <td>John Carter is a war-weary, former military ca...</td>\n      <td>43.926995</td>\n      <td>[{\"name\": \"Walt Disney Pictures\", \"id\": 2}]</td>\n      <td>...</td>\n      <td>[{\"iso_639_1\": \"en\", \"name\": \"English\"}]</td>\n      <td>Released</td>\n      <td>Lost in our world, found in another.</td>\n      <td>John Carter</td>\n      <td>6.1</td>\n      <td>2124</td>\n      <td>[taylorkitsch, lynncollins, samanthamorton, wi...</td>\n      <td>[{'credit_id': '52fe479ac3a36847f813eaa3', 'de...</td>\n      <td>andrewstanton</td>\n      <td>basedonnovel mars medallion spacetravel prince...</td>\n    </tr>\n    <tr>\n      <th>...</th>\n      <td>...</td>\n      <td>...</td>\n      <td>...</td>\n      <td>...</td>\n      <td>...</td>\n      <td>...</td>\n      <td>...</td>\n      <td>...</td>\n      <td>...</td>\n      <td>...</td>\n      <td>...</td>\n      <td>...</td>\n      <td>...</td>\n      <td>...</td>\n      <td>...</td>\n      <td>...</td>\n      <td>...</td>\n      <td>...</td>\n      <td>...</td>\n      <td>...</td>\n      <td>...</td>\n    </tr>\n    <tr>\n      <th>4798</th>\n      <td>220000</td>\n      <td>[action, crime, thriller]</td>\n      <td>NaN</td>\n      <td>9367</td>\n      <td>[unitedstates–mexicobarrier, legs, arms, paper...</td>\n      <td>es</td>\n      <td>El Mariachi</td>\n      <td>El Mariachi just wants to play his guitar and ...</td>\n      <td>14.269792</td>\n      <td>[{\"name\": \"Columbia Pictures\", \"id\": 5}]</td>\n      <td>...</td>\n      <td>[{\"iso_639_1\": \"es\", \"name\": \"Espa\\u00f1ol\"}]</td>\n      <td>Released</td>\n      <td>He didn't come looking for trouble, but troubl...</td>\n      <td>El Mariachi</td>\n      <td>6.6</td>\n      <td>238</td>\n      <td>[carlosgallardo, jaimedehoyos, petermarquardt,...</td>\n      <td>[{'credit_id': '52fe44eec3a36847f80b280b', 'de...</td>\n      <td>robertrodriguez</td>\n      <td>unitedstates–mexicobarrier legs arms paperknif...</td>\n    </tr>\n    <tr>\n      <th>4799</th>\n      <td>9000</td>\n      <td>[comedy, romance]</td>\n      <td>NaN</td>\n      <td>72766</td>\n      <td>[]</td>\n      <td>en</td>\n      <td>Newlyweds</td>\n      <td>A newlywed couple's honeymoon is upended by th...</td>\n      <td>0.642552</td>\n      <td>[]</td>\n      <td>...</td>\n      <td>[]</td>\n      <td>Released</td>\n      <td>A newlywed couple's honeymoon is upended by th...</td>\n      <td>Newlyweds</td>\n      <td>5.9</td>\n      <td>5</td>\n      <td>[edwardburns, kerrybishé, marshadietlein, cait...</td>\n      <td>[{'credit_id': '52fe487dc3a368484e0fb013', 'de...</td>\n      <td>edwardburns</td>\n      <td>edwardburns kerrybishé marshadietlein caitlin...</td>\n    </tr>\n    <tr>\n      <th>4800</th>\n      <td>0</td>\n      <td>[comedy, drama, romance, tvmovie]</td>\n      <td>http://www.hallmarkchannel.com/signedsealeddel...</td>\n      <td>231617</td>\n      <td>[date, loveatfirstsight, narration, investigat...</td>\n      <td>en</td>\n      <td>Signed, Sealed, Delivered</td>\n      <td>\"Signed, Sealed, Delivered\" introduces a dedic...</td>\n      <td>1.444476</td>\n      <td>[{\"name\": \"Front Street Pictures\", \"id\": 3958}...</td>\n      <td>...</td>\n      <td>[{\"iso_639_1\": \"en\", \"name\": \"English\"}]</td>\n      <td>Released</td>\n      <td>NaN</td>\n      <td>Signed, Sealed, Delivered</td>\n      <td>7.0</td>\n      <td>6</td>\n      <td>[ericmabius, kristinbooth, crystallowe, geoffg...</td>\n      <td>[{'credit_id': '52fe4df3c3a36847f8275ecf', 'de...</td>\n      <td>scottsmith</td>\n      <td>date loveatfirstsight narration investigation ...</td>\n    </tr>\n    <tr>\n      <th>4801</th>\n      <td>0</td>\n      <td>[]</td>\n      <td>http://shanghaicalling.com/</td>\n      <td>126186</td>\n      <td>[]</td>\n      <td>en</td>\n      <td>Shanghai Calling</td>\n      <td>When ambitious New York attorney Sam is sent t...</td>\n      <td>0.857008</td>\n      <td>[]</td>\n      <td>...</td>\n      <td>[{\"iso_639_1\": \"en\", \"name\": \"English\"}]</td>\n      <td>Released</td>\n      <td>A New Yorker in Shanghai</td>\n      <td>Shanghai Calling</td>\n      <td>5.7</td>\n      <td>7</td>\n      <td>[danielhenney, elizacoupe, billpaxton, alanruc...</td>\n      <td>[{'credit_id': '52fe4ad9c3a368484e16a36b', 'de...</td>\n      <td>danielhsia</td>\n      <td>danielhenney elizacoupe billpaxton alanruck z...</td>\n    </tr>\n    <tr>\n      <th>4802</th>\n      <td>0</td>\n      <td>[documentary]</td>\n      <td>NaN</td>\n      <td>25975</td>\n      <td>[obsession, camcorder, crush, dreamgirl]</td>\n      <td>en</td>\n      <td>My Date with Drew</td>\n      <td>Ever since the second grade when he first saw ...</td>\n      <td>1.929883</td>\n      <td>[{\"name\": \"rusty bear entertainment\", \"id\": 87...</td>\n      <td>...</td>\n      <td>[{\"iso_639_1\": \"en\", \"name\": \"English\"}]</td>\n      <td>Released</td>\n      <td>NaN</td>\n      <td>My Date with Drew</td>\n      <td>6.3</td>\n      <td>16</td>\n      <td>[drewbarrymore, brianherzlinger, coreyfeldman,...</td>\n      <td>[{'credit_id': '58ce021b9251415a390165d9', 'de...</td>\n      <td>brianherzlinger</td>\n      <td>obsession camcorder crush dreamgirl drewbarrym...</td>\n    </tr>\n  </tbody>\n</table>\n<p>4803 rows × 24 columns</p>\n</div>"
     },
     "execution_count": 229,
     "metadata": {},
     "output_type": "execute_result"
    }
   ],
   "source": [
    "movies_df"
   ],
   "metadata": {
    "collapsed": false
   }
  },
  {
   "cell_type": "markdown",
   "source": [
    "#### Создание строки со всеми метаданными фильмов"
   ],
   "metadata": {
    "collapsed": false
   }
  },
  {
   "cell_type": "code",
   "execution_count": null,
   "outputs": [],
   "source": [
    "def create_soup(x):\n",
    "    return ' '.join(x['keywords']) + ' ' + ' '.join(x['cast']) + ' ' + \\\n",
    "           x['director'] + ' ' + ' '.join(x['genres']) + ' ' + x['original_language']\n",
    "movies_df['soup'] = movies_df.apply(create_soup, axis=1)"
   ],
   "metadata": {
    "collapsed": false
   }
  },
  {
   "cell_type": "code",
   "execution_count": 231,
   "outputs": [
    {
     "data": {
      "text/plain": "'cultureclash future spacewar spacecolony society spacetravel samworthington zoesaldana sigourneyweaver stephenlang michellerodriguez giovanniribisi jamescameron action adventure fantasy sciencefiction en'"
     },
     "execution_count": 231,
     "metadata": {},
     "output_type": "execute_result"
    }
   ],
   "source": [
    "movies_df['soup'][0]"
   ],
   "metadata": {
    "collapsed": false
   }
  },
  {
   "cell_type": "markdown",
   "source": [
    "#### Воспользуемся CountVectorizer для формирования вектора для фильмов"
   ],
   "metadata": {
    "collapsed": false
   }
  },
  {
   "cell_type": "code",
   "execution_count": 232,
   "outputs": [],
   "source": [
    "# Import CountVectorizer and create the count matrix\n",
    "from sklearn.feature_extraction.text import CountVectorizer\n",
    "\n",
    "count = CountVectorizer(stop_words='english')\n",
    "count_matrix = count.fit_transform(movies_df['soup'])"
   ],
   "metadata": {
    "collapsed": false
   }
  },
  {
   "cell_type": "markdown",
   "source": [
    "#### `cosine_sim2` - матрица расстояний близости фильмов"
   ],
   "metadata": {
    "collapsed": false
   }
  },
  {
   "cell_type": "code",
   "execution_count": 233,
   "outputs": [],
   "source": [
    "# Compute the Cosine Similarity matrix based on the count_matrix\n",
    "from sklearn.metrics.pairwise import cosine_similarity\n",
    "\n",
    "cosine_sim2 = cosine_similarity(count_matrix, count_matrix)"
   ],
   "metadata": {
    "collapsed": false
   }
  },
  {
   "cell_type": "markdown",
   "source": [
    "#### Получаем рекомендации"
   ],
   "metadata": {
    "collapsed": false
   }
  },
  {
   "cell_type": "code",
   "execution_count": 234,
   "outputs": [
    {
     "data": {
      "text/plain": "7                  Avengers: Age of Ultron\n26              Captain America: Civil War\n85     Captain America: The Winter Soldier\n79                              Iron Man 2\n68                                Iron Man\n169     Captain America: The First Avenger\n174                    The Incredible Hulk\n101                     X-Men: First Class\n511                                  X-Men\n31                              Iron Man 3\nName: title, dtype: object"
     },
     "execution_count": 234,
     "metadata": {},
     "output_type": "execute_result"
    }
   ],
   "source": [
    "get_recommendations('The Avengers', cosine_sim2)"
   ],
   "metadata": {
    "collapsed": false
   }
  },
  {
   "cell_type": "markdown",
   "source": [
    "# Сохраним наш датасет для веб-приложения"
   ],
   "metadata": {
    "collapsed": false
   }
  },
  {
   "cell_type": "code",
   "execution_count": 236,
   "outputs": [],
   "source": [
    "movies_df.to_csv('data/movies_df.csv', index=False)"
   ],
   "metadata": {
    "collapsed": false
   }
  },
  {
   "cell_type": "code",
   "execution_count": null,
   "outputs": [],
   "source": [],
   "metadata": {
    "collapsed": false
   }
  }
 ],
 "metadata": {
  "kernelspec": {
   "display_name": "Python 3",
   "language": "python",
   "name": "python3"
  },
  "language_info": {
   "codemirror_mode": {
    "name": "ipython",
    "version": 2
   },
   "file_extension": ".py",
   "mimetype": "text/x-python",
   "name": "python",
   "nbconvert_exporter": "python",
   "pygments_lexer": "ipython2",
   "version": "2.7.6"
  }
 },
 "nbformat": 4,
 "nbformat_minor": 0
}
